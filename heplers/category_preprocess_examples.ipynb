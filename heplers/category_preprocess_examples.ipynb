{
 "cells": [
  {
   "cell_type": "code",
   "execution_count": 1,
   "metadata": {
    "collapsed": true
   },
   "outputs": [],
   "source": [
    "import pandas as pd\n",
    "from category_preprocess import *"
   ]
  },
  {
   "cell_type": "code",
   "execution_count": 2,
   "metadata": {
    "collapsed": true
   },
   "outputs": [],
   "source": [
    "D = pd.read_csv('./data.csv')"
   ]
  },
  {
   "cell_type": "code",
   "execution_count": 3,
   "metadata": {},
   "outputs": [
    {
     "data": {
      "text/plain": [
       "array([ 1900.,  -817., -1050.,  1836.,  -777., -1025.,  1845.,  -744.,\n",
       "       -1067.,  1853., -1043.,  -776.,  1802.,  -750., -1019.])"
      ]
     },
     "execution_count": 3,
     "metadata": {},
     "output_type": "execute_result"
    }
   ],
   "source": [
    "bcp = BaseCategoryProcessor('difference_in_counts')\n",
    "bcp.fit_transform(D.drop('cardio', axis=1), D.cardio, 'gluc', alpha=1).unique()"
   ]
  },
  {
   "cell_type": "code",
   "execution_count": 4,
   "metadata": {},
   "outputs": [
    {
     "data": {
      "text/plain": [
       "array([ 2309.,  -966., -1301.])"
      ]
     },
     "execution_count": 4,
     "metadata": {},
     "output_type": "execute_result"
    }
   ],
   "source": [
    "bcp.transform(D.drop('cardio', axis=1), D.cardio, 'gluc').unique()"
   ]
  },
  {
   "cell_type": "code",
   "execution_count": 5,
   "metadata": {},
   "outputs": [
    {
     "data": {
      "text/plain": [
       "array([ 0.48007516,  0.59561418,  0.61890459,  0.48074788,  0.59008874,\n",
       "        0.6172147 ,  0.48065716,  0.58692747,  0.62135183,  0.48060095,\n",
       "        0.61960153,  0.59134981,  0.48111391,  0.58791647,  0.61589257])"
      ]
     },
     "execution_count": 5,
     "metadata": {},
     "output_type": "execute_result"
    }
   ],
   "source": [
    "sl = SmoothedLikehoodProcessor()\n",
    "sl.fit_transform(D.drop('cardio', axis=1), D.cardio, 'gluc', alpha=123).unique()"
   ]
  },
  {
   "cell_type": "code",
   "execution_count": 6,
   "metadata": {},
   "outputs": [
    {
     "data": {
      "text/plain": [
       "array([ 0.48062923,  0.59090215,  0.61926349])"
      ]
     },
     "execution_count": 6,
     "metadata": {},
     "output_type": "execute_result"
    }
   ],
   "source": [
    "sl.transform(D.drop('cardio', axis=1), D.cardio, 'gluc').unique()"
   ]
  },
  {
   "cell_type": "code",
   "execution_count": 7,
   "metadata": {},
   "outputs": [
    {
     "data": {
      "text/plain": [
       "array([ 0.07994162, -0.39884454, -0.49916729,  0.07723964, -0.37513274,\n",
       "       -0.4919253 ,  0.07760394, -0.36175868, -0.50995243,  0.07782938,\n",
       "       -0.50240481, -0.38068292,  0.0757696 , -0.3660008 , -0.48607466])"
      ]
     },
     "execution_count": 7,
     "metadata": {},
     "output_type": "execute_result"
    }
   ],
   "source": [
    "woe = WeightsOfEvidenceProcessor()\n",
    "woe.fit_transform(D.drop('cardio', axis=1), D.cardio, 'gluc', alpha=1).unique()"
   ]
  },
  {
   "cell_type": "code",
   "execution_count": 8,
   "metadata": {},
   "outputs": [
    {
     "data": {
      "text/plain": [
       "array([ 0.07767729, -0.37649614, -0.49794537])"
      ]
     },
     "execution_count": 8,
     "metadata": {},
     "output_type": "execute_result"
    }
   ],
   "source": [
    "woe.transform(D.drop('cardio', axis=1), D.cardio, 'gluc').unique()"
   ]
  },
  {
   "cell_type": "code",
   "execution_count": 9,
   "metadata": {},
   "outputs": [
    {
     "data": {
      "text/plain": [
       "array([ 1900.,  -817., -1050.,  1836.,  -777., -1025.,  1845.,  -744.,\n",
       "       -1067.,  1853., -1043.,  -776.,  1802.,  -750., -1019.])"
      ]
     },
     "execution_count": 9,
     "metadata": {},
     "output_type": "execute_result"
    }
   ],
   "source": [
    "dic = DifferenceCountsProcessor()\n",
    "dic.fit_transform(D.drop('cardio', axis=1), D.cardio, 'gluc', alpha=1).unique()"
   ]
  },
  {
   "cell_type": "code",
   "execution_count": 10,
   "metadata": {},
   "outputs": [
    {
     "data": {
      "text/plain": [
       "array([ 2309.,  -966., -1301.])"
      ]
     },
     "execution_count": 10,
     "metadata": {},
     "output_type": "execute_result"
    }
   ],
   "source": [
    "dic.transform(D.drop('cardio', axis=1), D.cardio, 'gluc').unique()"
   ]
  },
  {
   "cell_type": "code",
   "execution_count": null,
   "metadata": {
    "collapsed": true
   },
   "outputs": [],
   "source": []
  },
  {
   "cell_type": "code",
   "execution_count": 11,
   "metadata": {
    "collapsed": true
   },
   "outputs": [],
   "source": [
    "def my_func(X_train, y_train, column_by, unique_value, alpha=1):\n",
    "    mask = X_train.loc[:, column_by] == unique_value\n",
    "    return y_train[mask].mean() - y_train[mask].std()"
   ]
  },
  {
   "cell_type": "code",
   "execution_count": 12,
   "metadata": {},
   "outputs": [
    {
     "data": {
      "text/plain": [
       "array([-0.01958168,  0.10818808,  0.13745727, -0.0189337 ,  0.10136077,\n",
       "        0.13532592, -0.01902112,  0.09752708,  0.14063641, -0.01907521,\n",
       "        0.13841117,  0.10295533, -0.01858076,  0.09874168,  0.13360582])"
      ]
     },
     "execution_count": 12,
     "metadata": {},
     "output_type": "execute_result"
    }
   ],
   "source": [
    "t = CatTransformer(func=my_func)\n",
    "t.fit_transform(D.drop('cardio', axis=1), D.cardio, 'gluc', alpha=10).unique()"
   ]
  }
 ],
 "metadata": {
  "kernelspec": {
   "display_name": "Python 2",
   "language": "python",
   "name": "python2"
  },
  "language_info": {
   "codemirror_mode": {
    "name": "ipython",
    "version": 2
   },
   "file_extension": ".py",
   "mimetype": "text/x-python",
   "name": "python",
   "nbconvert_exporter": "python",
   "pygments_lexer": "ipython2",
   "version": "2.7.3"
  }
 },
 "nbformat": 4,
 "nbformat_minor": 2
}
