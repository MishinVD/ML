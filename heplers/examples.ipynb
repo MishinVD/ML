{
 "cells": [
  {
   "cell_type": "code",
   "execution_count": 1,
   "metadata": {
    "collapsed": true
   },
   "outputs": [],
   "source": [
    "from sklearn.datasets import load_iris"
   ]
  },
  {
   "cell_type": "code",
   "execution_count": 2,
   "metadata": {
    "collapsed": true
   },
   "outputs": [],
   "source": [
    "from sklearn.neighbors import KNeighborsClassifier"
   ]
  },
  {
   "cell_type": "code",
   "execution_count": 3,
   "metadata": {
    "collapsed": true
   },
   "outputs": [],
   "source": [
    "iris = load_iris()"
   ]
  },
  {
   "cell_type": "code",
   "execution_count": 4,
   "metadata": {},
   "outputs": [
    {
     "data": {
      "text/plain": [
       "array([0, 0, 0, 0, 0, 0, 0, 0, 0, 0, 0, 0, 0, 0, 0, 0, 0, 0, 0, 0, 0, 0, 0,\n",
       "       0, 0, 0, 0, 0, 0, 0, 0, 0, 0, 0, 0, 0, 0, 0, 0, 0, 0, 0, 0, 0, 0, 0,\n",
       "       0, 0, 0, 0, 1, 1, 1, 1, 1, 1, 1, 1, 1, 1, 1, 1, 1, 1, 1, 1, 1, 1, 1,\n",
       "       1, 1, 1, 1, 1, 1, 1, 1, 1, 1, 1, 1, 1, 1, 2, 1, 1, 1, 1, 1, 1, 1, 1,\n",
       "       1, 1, 1, 1, 1, 1, 1, 1, 2, 2, 2, 2, 2, 2, 1, 2, 2, 2, 2, 2, 2, 2, 2,\n",
       "       2, 2, 2, 2, 2, 2, 2, 2, 2, 2, 2, 2, 2, 2, 2, 2, 2, 2, 2, 2, 2, 2, 2,\n",
       "       1, 2, 2, 2, 2, 2, 2, 2, 2, 2, 2, 2])"
      ]
     },
     "execution_count": 4,
     "metadata": {},
     "output_type": "execute_result"
    }
   ],
   "source": [
    "from hyperopt.pyll.base import scope\n",
    "from sklearn.metrics import accuracy_score\n",
    "from space_search import SpaceSearchCV\n",
    "from hyperopt import hp\n",
    "\n",
    "s = SpaceSearchCV(\n",
    "    fit_best_estimator=True,\n",
    "    maximize_score=True, scoring=accuracy_score,\n",
    "    estimator=KNeighborsClassifier(),\n",
    "    cv=5, random_state=123,\n",
    "    max_evals=30,\n",
    "    param_space={\n",
    "        'n_neighbors' : scope.int(hp.quniform('n_neighbors', 10, 40, 1))\n",
    "    })\n",
    "s.fit(iris.data, iris.target).predict(iris.data)"
   ]
  },
  {
   "cell_type": "code",
   "execution_count": 5,
   "metadata": {},
   "outputs": [
    {
     "name": "stdout",
     "output_type": "stream",
     "text": [
      "0.98 {'n_neighbors': 10}\n"
     ]
    }
   ],
   "source": [
    "print s.best_score_, s.best_params_"
   ]
  },
  {
   "cell_type": "code",
   "execution_count": 6,
   "metadata": {
    "collapsed": true
   },
   "outputs": [],
   "source": [
    "from simple_stacking import SimpleStacking"
   ]
  },
  {
   "cell_type": "code",
   "execution_count": 7,
   "metadata": {},
   "outputs": [
    {
     "name": "stdout",
     "output_type": "stream",
     "text": [
      "[ 0.   0.   0.   0.   0.   0.   0.   0.   0.   0.   0.   0.   0.   0.   0.\n",
      "  0.   0.   0.   0.   0.   0.   0.   0.   0.   0.   0.   0.   0.   0.   0.\n",
      "  0.   0.   0.   0.   0.   0.   0.   0.   0.   0.   0.   0.   0.   0.   0.\n",
      "  0.   0.   0.   0.   0.   0.2  0.   0.5  0.   0.1  0.   0.3  0.   0.   0.\n",
      "  0.   0.   0.   0.4  0.   0.   0.   0.   0.3  0.   0.4  0.   0.4  0.1  0.\n",
      "  0.   0.1  0.5  0.1  0.   0.   0.   0.   0.8  0.   0.1  0.   0.1  0.   0.\n",
      "  0.   0.1  0.   0.   0.   0.   0.   0.   0.   0.   1.   0.9  1.   1.   1.\n",
      "  1.   0.2  1.   1.   1.   0.8  0.8  1.   0.9  0.9  1.   0.9  1.   1.   0.7\n",
      "  1.   0.7  1.   0.7  1.   1.   0.6  0.6  1.   1.   1.   1.   1.   0.6  0.9\n",
      "  1.   1.   1.   0.5  1.   1.   0.9  0.8  1.   1.   1.   0.8  0.9  1.   0.8]\n",
      "[ 0.   0.   0.   0.   0.   0.   0.   0.   0.   0.   0.   0.   0.   0.   0.\n",
      "  0.   0.   0.   0.   0.   0.   0.   0.   0.   0.   0.   0.   0.   0.   0.\n",
      "  0.   0.   0.   0.   0.   0.   0.   0.   0.   0.   0.   0.   0.   0.   0.\n",
      "  0.   0.   0.   0.   0.   0.   0.   0.   0.   0.   0.   0.2  0.   0.   0.\n",
      "  0.   0.   0.   0.3  0.   0.   0.   0.   0.4  0.   0.4  0.   0.5  0.   0.\n",
      "  0.   0.1  0.5  0.1  0.   0.   0.   0.   0.8  0.   0.1  0.   0.   0.   0.\n",
      "  0.   0.1  0.   0.   0.   0.   0.   0.   0.   0.   1.   0.9  1.   1.   1.\n",
      "  1.   0.2  1.   1.   1.   0.9  1.   1.   0.9  1.   1.   1.   1.   1.   0.7\n",
      "  1.   0.8  1.   0.7  1.   1.   0.7  0.6  1.   1.   1.   1.   1.   0.6  0.8\n",
      "  1.   1.   1.   0.5  1.   1.   0.9  0.9  1.   1.   1.   0.8  0.9  1.   0.8]\n"
     ]
    }
   ],
   "source": [
    "knn = SimpleStacking(KNeighborsClassifier(10))\n",
    "new_train_col, new_target_col = knn.fit_transform(iris.data, iris.target, use_proba=True, X_target=iris.data, pred_col=2)\n",
    "print new_train_col\n",
    "print new_target_col"
   ]
  },
  {
   "cell_type": "code",
   "execution_count": 8,
   "metadata": {},
   "outputs": [
    {
     "data": {
      "text/plain": [
       "array([0, 0, 0, 0, 0, 0, 0, 0, 0, 0, 0, 0, 0, 0, 0, 0, 0, 0, 0, 0, 0, 0, 0,\n",
       "       0, 0, 0, 0, 0, 0, 0, 0, 0, 0, 0, 0, 0, 0, 0, 0, 0, 0, 0, 0, 0, 0, 0,\n",
       "       0, 0, 0, 0, 1, 1, 1, 1, 1, 1, 1, 1, 1, 1, 1, 1, 1, 1, 1, 1, 1, 1, 1,\n",
       "       1, 1, 1, 1, 1, 1, 1, 1, 1, 1, 1, 1, 1, 1, 2, 1, 1, 1, 1, 1, 1, 1, 1,\n",
       "       1, 1, 1, 1, 1, 1, 1, 1, 2, 2, 2, 2, 2, 2, 1, 2, 2, 2, 2, 2, 2, 2, 2,\n",
       "       2, 2, 2, 2, 2, 2, 2, 2, 2, 2, 2, 2, 2, 2, 2, 2, 2, 2, 2, 2, 2, 2, 2,\n",
       "       1, 2, 2, 2, 2, 2, 2, 2, 2, 2, 2, 2])"
      ]
     },
     "execution_count": 8,
     "metadata": {},
     "output_type": "execute_result"
    }
   ],
   "source": [
    "knn.transform(iris.data, use_proba=False)"
   ]
  },
  {
   "cell_type": "code",
   "execution_count": null,
   "metadata": {
    "collapsed": true
   },
   "outputs": [],
   "source": []
  }
 ],
 "metadata": {
  "kernelspec": {
   "display_name": "Python 2",
   "language": "python",
   "name": "python2"
  },
  "language_info": {
   "codemirror_mode": {
    "name": "ipython",
    "version": 2
   },
   "file_extension": ".py",
   "mimetype": "text/x-python",
   "name": "python",
   "nbconvert_exporter": "python",
   "pygments_lexer": "ipython2",
   "version": "2.7.3"
  }
 },
 "nbformat": 4,
 "nbformat_minor": 2
}
