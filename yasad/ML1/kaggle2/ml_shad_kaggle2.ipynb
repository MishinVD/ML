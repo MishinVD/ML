{
 "cells": [
  {
   "cell_type": "code",
   "execution_count": 1,
   "metadata": {
    "collapsed": true
   },
   "outputs": [],
   "source": [
    "def get_auc_list(X, y, clf, print_score=True):\n",
    "    predictions = list()\n",
    "    scores = list()\n",
    "    for i, tree in enumerate(clf.estimators_):\n",
    "        predictions.append(tree.predict_proba(X))\n",
    "        rf_prediction = mean(predictions, axis=0)\n",
    "        scores.append(log_loss(y, rf_prediction))\n",
    "    if print_score:\n",
    "        print 'Last score', scores[-1]\n",
    "    return scores\n",
    "\n",
    "def plot_auc_graph(clf, X_train, X_test, y_train, y_test, prefix, print_train=True):\n",
    "    clf.fit(X_train, y_train)\n",
    "    train_aucs = get_auc_list(X_train, y_train, clf, print_train)\n",
    "    test_aucs = get_auc_list(X_test, y_test, clf, True)\n",
    "    if print_train:\n",
    "        plot(train_aucs, label=prefix + ' train set')\n",
    "    plot(test_aucs, label=prefix + ' test set')\n",
    "    xlabel('n_estimators')\n",
    "    ylabel('log_loss')\n",
    "    legend(loc=1)\n",
    "    \n",
    "def plot_features_random_forest(clf):\n",
    "    importances = clf.feature_importances_\n",
    "    std = np.std([tree.feature_importances_ for tree in clf.estimators_],\n",
    "             axis=0)\n",
    "    indices = np.argsort(importances)[::-1]\n",
    "\n",
    "    # Print the feature ranking\n",
    "#     print(\"Feature ranking:\")\n",
    "\n",
    "    # for f in range(X_train.shape[1]):\n",
    "    #     print(\\\"%d. feature %d (%f)\\\" % (f + 1, indices[f], importances[indices[f]]))\n",
    "\n",
    "    # Plot the feature importances of the forest\n",
    "    plt.figure(figsize=(8,4))\n",
    "    plt.title(\"Feature importances\")\n",
    "    plt.bar(range(X_train.shape[1]), importances[indices])\n",
    "    plt.xticks(range(X_train.shape[1]), indices)\n",
    "    plt.xlim([-1, X_train.shape[1]])\n",
    "    plt.show()\n",
    "    \n",
    "def plot_quality(grid_searcher, param_name):\n",
    "    means = []\n",
    "    stds = []\n",
    "    for elem in grid_searcher.grid_scores_:\n",
    "        means.append(mean(elem.cv_validation_scores))\n",
    "        stds.append(sqrt(var(elem.cv_validation_scores)))\n",
    "    means = array(means)\n",
    "    stds = array(stds)\n",
    "    \n",
    "    params = grid_searcher.param_grid\n",
    "    \n",
    "    figure(figsize=(8, 6))\n",
    "    plot(params[param_name], means)\n",
    "    fill_between(params[param_name], \\\n",
    "                 means + stds, means - stds, alpha = 0.3, facecolor='blue')\n",
    "    xlabel(param_name)\n",
    "    ylabel('LOG LOSS')"
   ]
  },
  {
   "cell_type": "markdown",
   "metadata": {},
   "source": [
    "# Пояснение модели\n",
    "Традиционно данные были разбиты на train, test, validation. Потом были всяческие жалкие попытки обучить приличный случайный лес. После 100500 раза были опробованы 5 линейных моделей, которые по отдельности давали результат значительно хуже RandomForest, по после усреднения были сравнимы качество было сравнимо с RandomForest. После такого было решено обучить какое-то кол-во моделей, а в качестве ответа предоставить среднее значение.\n",
    "\n",
    "Ну и ниже идет просто обучение различных моделей, порой они очень похожи, порой они бердовые и не объяснимы.\n",
    "\n",
    "А вообще, похоже на какую-то очень плохую модель, которая выстрелила при удачных random_state"
   ]
  },
  {
   "cell_type": "markdown",
   "metadata": {},
   "source": [
    "# WARNING. БЫДЛОКОД detected\n",
    "<img src=\"http://cs622927.vk.me/v622927463/3239e/idTHUIWcuZk.jpg\"/>"
   ]
  },
  {
   "cell_type": "code",
   "execution_count": 2,
   "metadata": {
    "collapsed": false
   },
   "outputs": [
    {
     "name": "stdout",
     "output_type": "stream",
     "text": [
      "Populating the interactive namespace from numpy and matplotlib\n"
     ]
    }
   ],
   "source": [
    "%pylab inline"
   ]
  },
  {
   "cell_type": "code",
   "execution_count": 3,
   "metadata": {
    "collapsed": true
   },
   "outputs": [],
   "source": [
    "import numpy as np\n",
    "import pandas as pd\n",
    "\n",
    "from sklearn.preprocessing import Imputer\n",
    "from sklearn.ensemble import RandomForestClassifier\n",
    "\n",
    "from sklearn.grid_search import GridSearchCV\n",
    "from sklearn.neighbors import KNeighborsClassifier as KNN\n",
    "from sklearn import preprocessing\n",
    "from sklearn.ensemble import RandomForestClassifier as RFC\n",
    "from sklearn.linear_model import LogisticRegression as SAG\n",
    "from sklearn.cross_validation import KFold\n",
    "\n",
    "from sklearn.feature_selection import SelectFromModel\n",
    "from sklearn.calibration import CalibratedClassifierCV\n",
    "from sklearn.metrics import log_loss\n",
    "import numpy as np\n",
    "import matplotlib.pyplot as plt"
   ]
  },
  {
   "cell_type": "code",
   "execution_count": 4,
   "metadata": {
    "collapsed": false
   },
   "outputs": [],
   "source": [
    "from sklearn.ensemble import ExtraTreesClassifier as ETC\n",
    "from sklearn.preprocessing import StandardScaler\n",
    "from sklearn.svm  import SVC \n",
    "from sklearn.grid_search import GridSearchCV\n",
    "from sklearn.neighbors import KNeighborsClassifier\n",
    "from sklearn.linear_model import ElasticNet\n",
    "from sklearn.linear_model import SGDClassifier\n",
    "from sklearn.linear_model import LassoCV\n",
    "from sklearn.linear_model import Lasso\n",
    "from sklearn.linear_model import LogisticRegression\n",
    "from sklearn.linear_model import LogisticRegressionCV\n",
    "from sklearn.svm import SVR"
   ]
  },
  {
   "cell_type": "code",
   "execution_count": 5,
   "metadata": {
    "collapsed": true
   },
   "outputs": [],
   "source": [
    "import seaborn as sns"
   ]
  },
  {
   "cell_type": "markdown",
   "metadata": {},
   "source": [
    "Функция котороая разбивает train на части, потом предсказывает одну часть по осатльным. По итогу получим получаем дополнительный признак - выход конкретной модели. Эта идеи была высказана на семинаре 12 апреля"
   ]
  },
  {
   "cell_type": "code",
   "execution_count": 6,
   "metadata": {
    "collapsed": true
   },
   "outputs": [],
   "source": [
    "# %%time\n",
    "def getCVOutFromModel(inputClf, X, y, colName='Prediction', preTrans=None, nFolds=3, randomState=0, needScores=False):\n",
    "    kf_total = KFold(X.shape[0], n_folds=nFolds, shuffle=True, random_state=randomState)\n",
    "    \n",
    "    yPred = pd.DataFrame()\n",
    "    scores = []\n",
    "    for train_index, test_index in kf_total:\n",
    "        clf = inputClf;\n",
    "        matrXFit = preTrans.transform(X.iloc[train_index, :]) if preTrans else X.iloc[train_index, :]\n",
    "        yFit = y[train_index]\n",
    "        matrXTest = preTrans.transform(X.iloc[test_index, :]) if preTrans else X.iloc[test_index, :]\n",
    "        yTest = y[test_index]\n",
    "\n",
    "        clf.fit(matrXFit, yFit)\n",
    "\n",
    "        pred = clf.predict_proba(matrXTest)\n",
    "        scores.append(log_loss(yTest, pred))\n",
    "        yPred = yPred.append(pd.DataFrame(pred[:,1], index=X_train.iloc[test_index, :].index))\n",
    "    \n",
    "    yPred.columns = [colName]\n",
    "    \n",
    "    if needScores:\n",
    "        return yPred, scores\n",
    "    else:\n",
    "        return yPred"
   ]
  },
  {
   "cell_type": "code",
   "execution_count": 7,
   "metadata": {
    "collapsed": true
   },
   "outputs": [],
   "source": [
    "# глобальные переменные.\n",
    "GLOBAL_RANDOM_CV = 75441\n",
    "GLOBAL_TRAIN_TEST_VALID_SPLIT = 643423\n",
    "GLOBAL_RND_SELECT_MODEL = 5432543\n",
    "GLOBAL_RND_MODEL = 6534245\n",
    "\n",
    "GLOBAL_NFOLD = 13"
   ]
  },
  {
   "cell_type": "code",
   "execution_count": 8,
   "metadata": {
    "collapsed": true
   },
   "outputs": [],
   "source": [
    "Xtrain = pd.read_csv('X.train.csv')\n",
    "Xtest = pd.read_csv('X.test.csv')\n",
    "\n",
    "ytrain = pd.read_csv('y.train.csv')['label']\n",
    "\n",
    "Xfull = pd.concat([Xtrain, Xtest], axis=0)\n",
    "# есть мнение что признак 'V48' имеет значение 0 и NA, причем NA не дает никакой информации\n",
    "Xfull.drop('V48', axis=1, inplace=True)\n",
    "Xfull.fillna(-9999, inplace=True)\n",
    "\n",
    "ytrain = ytrain.as_matrix()"
   ]
  },
  {
   "cell_type": "code",
   "execution_count": 9,
   "metadata": {
    "collapsed": false
   },
   "outputs": [
    {
     "name": "stdout",
     "output_type": "stream",
     "text": [
      "(4099, 1329) (1366, 1329)\n",
      "(4099, 1330) (1366, 1330)\n"
     ]
    }
   ],
   "source": [
    "X_train = Xfull.iloc[:ytrain.shape[0], :]\n",
    "X_sub = Xfull.iloc[ytrain.shape[0]:, :]\n",
    "print X_train.shape, X_sub.shape\n",
    "print Xtrain.shape, Xtest.shape"
   ]
  },
  {
   "cell_type": "markdown",
   "metadata": {},
   "source": [
    "Тут стоит отметить, что в ходе исследований разбиение было 60/20/20 (train/valid/test). И поэтому качества моделей на выборках test и valid были весьма адекватными. После выбора итоговой модели разбиение превратилось в 95/2.5/2.5 (train/valid/test), чтобы увеличить обучающую выборку."
   ]
  },
  {
   "cell_type": "code",
   "execution_count": 10,
   "metadata": {
    "collapsed": false
   },
   "outputs": [
    {
     "name": "stdout",
     "output_type": "stream",
     "text": [
      "321\n",
      "10\n",
      "12\n"
     ]
    }
   ],
   "source": [
    "from sklearn.cross_validation import train_test_split\n",
    "\n",
    "X_train, X_test, y_train, y_test = train_test_split(X_train, ytrain, test_size=0.05,\n",
    "                                                    random_state=GLOBAL_TRAIN_TEST_VALID_SPLIT)\n",
    "X_test, X_valid, y_test, y_valid  = train_test_split(X_test, y_test, test_size=0.5,\n",
    "                                                     random_state=GLOBAL_TRAIN_TEST_VALID_SPLIT)\n",
    "print sum(y_train)\n",
    "print sum(y_valid)\n",
    "print sum(y_test)"
   ]
  },
  {
   "cell_type": "markdown",
   "metadata": {},
   "source": [
    "featureX_train - тут храним выходы функции getCVOutFromModel от разных моделей."
   ]
  },
  {
   "cell_type": "code",
   "execution_count": 11,
   "metadata": {
    "collapsed": true
   },
   "outputs": [],
   "source": [
    "featureX_train = pd.DataFrame(index=X_train.index)"
   ]
  },
  {
   "cell_type": "markdown",
   "metadata": {},
   "source": [
    "### Модель 1-4\n",
    "Случайные леса, только выбираем самые важные признаки.\n",
    "1. RandomForest 'важные' признаки выбираются RandomForest\n",
    "2. RandomForest 'важные' признаки выбираются ExtraTreesClassifier\n",
    "3. ExtraTreesClassifier 'важные' признаки выбираются RandomForest\n",
    "4. ExtraTreesClassifier 'важные' признаки выбираются ExtraTreesClassifier"
   ]
  },
  {
   "cell_type": "code",
   "execution_count": 12,
   "metadata": {
    "collapsed": false
   },
   "outputs": [],
   "source": [
    "selectModel_1 = SelectFromModel(RFC(n_estimators=800, criterion='entropy',\n",
    "                                    random_state=GLOBAL_RND_SELECT_MODEL))\n",
    "selectModel_1.fit(X_train, y_train);\n",
    "\n",
    "selectModel_2 = SelectFromModel(ETC(n_estimators=800, criterion='entropy',\n",
    "                                    random_state=GLOBAL_RND_SELECT_MODEL))\n",
    "selectModel_2.fit(X_train, y_train);"
   ]
  },
  {
   "cell_type": "code",
   "execution_count": 13,
   "metadata": {
    "collapsed": true
   },
   "outputs": [],
   "source": [
    "model1 = RFC(n_estimators=2500, criterion='entropy', random_state=GLOBAL_RND_MODEL)\n",
    "model2 = ETC(n_estimators=2500, criterion='entropy', random_state=GLOBAL_RND_MODEL)"
   ]
  },
  {
   "cell_type": "code",
   "execution_count": 14,
   "metadata": {
    "collapsed": false
   },
   "outputs": [
    {
     "name": "stdout",
     "output_type": "stream",
     "text": [
      "CPU times: user 29min 45s, sys: 2 s, total: 29min 47s\n",
      "Wall time: 29min 47s\n"
     ]
    }
   ],
   "source": [
    "%%time\n",
    "y1, sc1 = getCVOutFromModel(model1, X_train, y_train, preTrans=selectModel_1,\n",
    "                            nFolds=GLOBAL_NFOLD, randomState=GLOBAL_RANDOM_CV, needScores=True)\n",
    "y2, sc2 = getCVOutFromModel(model1, X_train, y_train, preTrans=selectModel_2,\n",
    "                            nFolds=GLOBAL_NFOLD, randomState=GLOBAL_RANDOM_CV, needScores=True)\n",
    "y3, sc3 = getCVOutFromModel(model2, X_train, y_train, preTrans=selectModel_1,\n",
    "                            nFolds=GLOBAL_NFOLD, randomState=GLOBAL_RANDOM_CV, needScores=True)\n",
    "y4, sc4 = getCVOutFromModel(model2, X_train, y_train, preTrans=selectModel_2,\n",
    "                            nFolds=GLOBAL_NFOLD, randomState=GLOBAL_RANDOM_CV, needScores=True)"
   ]
  },
  {
   "cell_type": "code",
   "execution_count": 15,
   "metadata": {
    "collapsed": false
   },
   "outputs": [
    {
     "name": "stdout",
     "output_type": "stream",
     "text": [
      "[0.19717266403563266, 0.22017340207599317, 0.25580726248706726, 0.26050159533880207, 0.14680525936048611, 0.20076601628624624, 0.28331507881307111, 0.1679456809126991, 0.20677161417424614, 0.17673370091404106, 0.18350044033067728, 0.20619545182908061, 0.22844683971373056]\n",
      "[0.20330133419378019, 0.21667248277697884, 0.24622645943114208, 0.2579091628091526, 0.14927124214564752, 0.20063516546614285, 0.2830740942954979, 0.16571819528913861, 0.20133735029115951, 0.17802554096777257, 0.1803895237475259, 0.20984969102472759, 0.2192210665592591]\n",
      "[0.19272566686914705, 0.22432738601201563, 0.25430867864453888, 0.25302738000609132, 0.14090683098618975, 0.18140123197459265, 0.28224204896234711, 0.16896131850319324, 0.21430854322291903, 0.17394927676489449, 0.1854672685606702, 0.20842394816517612, 0.21368083332425189]\n",
      "[0.20778235628848635, 0.21327754465441898, 0.23990636812559757, 0.25174074436072186, 0.14800609118892238, 0.19602780049735191, 0.28025368831588643, 0.16541739899167579, 0.20278371686689811, 0.1808938115869537, 0.18004773018846601, 0.20883725685860369, 0.2173483596930357]\n"
     ]
    }
   ],
   "source": [
    "print sc1\n",
    "print sc2\n",
    "print sc3\n",
    "print sc4"
   ]
  },
  {
   "cell_type": "code",
   "execution_count": 16,
   "metadata": {
    "collapsed": true
   },
   "outputs": [],
   "source": [
    "featureX_train['y1'] = y1\n",
    "featureX_train['y2'] = y2\n",
    "featureX_train['y3'] = y3\n",
    "featureX_train['y4'] = y4"
   ]
  },
  {
   "cell_type": "code",
   "execution_count": 17,
   "metadata": {
    "collapsed": false
   },
   "outputs": [
    {
     "name": "stdout",
     "output_type": "stream",
     "text": [
      "(103, 220)\n",
      "(3894, 220)\n"
     ]
    }
   ],
   "source": [
    "print selectModel_1.transform(X_valid).shape\n",
    "print selectModel_1.transform(X_train).shape"
   ]
  },
  {
   "cell_type": "code",
   "execution_count": 18,
   "metadata": {
    "collapsed": false
   },
   "outputs": [],
   "source": [
    "m1 = RFC(n_estimators=2500, criterion='entropy', random_state=GLOBAL_RND_MODEL) #selectModel_1\n",
    "m2 = RFC(n_estimators=2500, criterion='entropy', random_state=GLOBAL_RND_MODEL) #selectModel_2\n",
    "m3 = ETC(n_estimators=2500, criterion='entropy', random_state=GLOBAL_RND_MODEL) #selectModel_1\n",
    "m4 = ETC(n_estimators=2500, criterion='entropy', random_state=GLOBAL_RND_MODEL) #selectModel_2\n",
    "\n",
    "m1.fit(selectModel_1.transform(X_train), y_train)\n",
    "m2.fit(selectModel_2.transform(X_train), y_train)\n",
    "m3.fit(selectModel_1.transform(X_train), y_train)\n",
    "m4.fit(selectModel_2.transform(X_train), y_train)\n",
    "\n",
    "yv1 = m1.predict_proba(selectModel_1.transform(X_valid))\n",
    "yv2 = m2.predict_proba(selectModel_2.transform(X_valid))\n",
    "yv3 = m3.predict_proba(selectModel_1.transform(X_valid))\n",
    "yv4 = m4.predict_proba(selectModel_2.transform(X_valid))\n",
    "\n",
    "yt1 = m1.predict_proba(selectModel_1.transform(X_test))\n",
    "yt2 = m2.predict_proba(selectModel_2.transform(X_test))\n",
    "yt3 = m3.predict_proba(selectModel_1.transform(X_test))\n",
    "yt4 = m4.predict_proba(selectModel_2.transform(X_test))\n",
    "\n",
    "featureX_valid = pd.DataFrame(index=X_valid.index)\n",
    "featureX_valid['y1'] = yv1[:, 1]\n",
    "featureX_valid['y2'] = yv2[:, 1]\n",
    "featureX_valid['y3'] = yv3[:, 1]\n",
    "featureX_valid['y4'] = yv4[:, 1]\n",
    "\n",
    "featureX_test = pd.DataFrame(index=X_test.index)\n",
    "featureX_test['y1'] = yt1[:, 1]\n",
    "featureX_test['y2'] = yt2[:, 1]\n",
    "featureX_test['y3'] = yt3[:, 1]\n",
    "featureX_test['y4'] = yt4[:, 1]"
   ]
  },
  {
   "cell_type": "code",
   "execution_count": 19,
   "metadata": {
    "collapsed": true
   },
   "outputs": [],
   "source": [
    "ys1 = m1.predict_proba(selectModel_1.transform(X_sub))\n",
    "ys2 = m2.predict_proba(selectModel_2.transform(X_sub))\n",
    "ys3 = m3.predict_proba(selectModel_1.transform(X_sub))\n",
    "ys4 = m4.predict_proba(selectModel_2.transform(X_sub))\n",
    "\n",
    "featureX_sub = pd.DataFrame(index=X_sub.index)\n",
    "featureX_sub['y1'] = ys1[:, 1]\n",
    "featureX_sub['y2'] = ys2[:, 1]\n",
    "featureX_sub['y3'] = ys3[:, 1]\n",
    "featureX_sub['y4'] = ys4[:, 1]"
   ]
  },
  {
   "cell_type": "code",
   "execution_count": 20,
   "metadata": {
    "collapsed": false
   },
   "outputs": [
    {
     "data": {
      "image/png": "[encoded data removed]",
      "text/plain": [
       "<matplotlib.figure.Figure at 0x7fe7526f6c50>"
      ]
     },
     "metadata": {},
     "output_type": "display_data"
    }
   ],
   "source": [
    "importances = m1.feature_importances_\n",
    "std = np.std([tree.feature_importances_ for tree in m1.estimators_],\n",
    "         axis=0)\n",
    "indices = np.argsort(importances)[::-1]\n",
    "\n",
    "plt.figure(figsize=(8,4))\n",
    "plt.title(\"Feature importances\")\n",
    "plt.bar(range(len(indices)), importances[indices])\n",
    "plt.xticks(arange(1, len(indices), 25), X_valid.columns[selectModel_1.get_support()][indices])\n",
    "plt.xlim([-1, len(indices)])\n",
    "plt.show()"
   ]
  },
  {
   "cell_type": "code",
   "execution_count": 21,
   "metadata": {
    "collapsed": false
   },
   "outputs": [
    {
     "name": "stdout",
     "output_type": "stream",
     "text": [
      "0.231460512334\n",
      "0.259135779932\n",
      "0.206860742967\n"
     ]
    }
   ],
   "source": [
    "print log_loss(y_valid, np.array([1-featureX_valid.mean(axis=1), featureX_valid.mean(axis=1)]).T)\n",
    "print log_loss(y_test, np.array([1-featureX_test.mean(axis=1), featureX_test.mean(axis=1)]).T)\n",
    "print log_loss(y_train, np.array([1-featureX_train.mean(axis=1), featureX_train.mean(axis=1)]).T)"
   ]
  },
  {
   "cell_type": "markdown",
   "metadata": {},
   "source": [
    "## Linear Models 5-8\n",
    "Модели обучались только на не категориальных признаках. Параметры были подобраны GridSearchCV несколько днями ранеее\n",
    "1. SVC\n",
    "2. KNN\n",
    "3. LogisticRegression L1 Regularization\n",
    "4. LogisticRegression L2 Regularization\n",
    "5. SGDClassifier - not using"
   ]
  },
  {
   "cell_type": "code",
   "execution_count": 22,
   "metadata": {
    "collapsed": true
   },
   "outputs": [],
   "source": [
    "Meta = pd.read_csv('MetaData.csv', index_col=0)\n",
    "notCategoryFeatures = Meta.index[Meta.Column_Type != 'Category']"
   ]
  },
  {
   "cell_type": "code",
   "execution_count": 23,
   "metadata": {
    "collapsed": false
   },
   "outputs": [
    {
     "data": {
      "text/plain": [
       "StandardScaler(copy=True, with_mean=True, with_std=True)"
      ]
     },
     "execution_count": 23,
     "metadata": {},
     "output_type": "execute_result"
    }
   ],
   "source": [
    "preProcSTD = StandardScaler()\n",
    "preProcSTD.fit(X_train[notCategoryFeatures])"
   ]
  },
  {
   "cell_type": "code",
   "execution_count": 24,
   "metadata": {
    "collapsed": true
   },
   "outputs": [],
   "source": [
    "svmModel = SVC(probability=True, random_state=GLOBAL_RND_MODEL, C=0.351)\n",
    "knnModel = KNeighborsClassifier(weights='distance', n_neighbors=150)\n",
    "logL1Model = LogisticRegression(penalty='l1', C=0.15, random_state=GLOBAL_RND_MODEL)\n",
    "logL2Model = LogisticRegression(penalty='l2', C=0.15, random_state=GLOBAL_RND_MODEL)\n",
    "sgdModel = SGDClassifier(random_state=GLOBAL_RND_MODEL, loss='log', alpha=0.0288)"
   ]
  },
  {
   "cell_type": "code",
   "execution_count": 25,
   "metadata": {
    "collapsed": false
   },
   "outputs": [
    {
     "name": "stdout",
     "output_type": "stream",
     "text": [
      "[0.23887330248238087, 0.22791041595479963, 0.29284393234707418, 0.28918129345379295, 0.18556978485098538, 0.24732806532684554, 0.32320455761198275, 0.19505769785796895, 0.22977203484394707, 0.22155411755910909, 0.21436049659242462, 0.2617632712882792, 0.26261253949269714]\n",
      "[0.22838146457365496, 0.34120263537504303, 0.31107586382128516, 0.30689659210902209, 0.17807865662928818, 0.24377832287958312, 0.31864007846400888, 0.17378232449077033, 0.23490016060708505, 0.22773720797335606, 0.19916477524314535, 0.23526879195617445, 0.29164993012937979]\n",
      "[0.21688689084525076, 0.22287872162502084, 0.2689851684553875, 0.28642723317186863, 0.15706697272177722, 0.22464634336451036, 0.31004949623962241, 0.16772297507946668, 0.21233486769365562, 0.18643605169025246, 0.19022337526356664, 0.22971949921478485, 0.24143816937908913]\n",
      "[0.23793093285479761, 0.2255514731443328, 0.27530773315966423, 0.28939174782875532, 0.15794937401706283, 0.23988561870615907, 0.31282911862735413, 0.17420637718047746, 0.20997817978802344, 0.18986939416862036, 0.19768285215054821, 0.23647267290588486, 0.23976813414441539]\n",
      "[0.49173996821357963, 0.50100565237484218, 0.66151903696888026, 0.81986825149963849, 0.34475157368546794, 0.64871591150447339, 0.72577308059937129, 0.28520099541793481, 0.43878885620009184, 0.32680075543687515, 0.38794830955629045, 0.48259653863464713, 0.49835066387698918]\n",
      "CPU times: user 1min 23s, sys: 34.7 s, total: 1min 57s\n",
      "Wall time: 1min 20s\n"
     ]
    }
   ],
   "source": [
    "%%time\n",
    "y5, sc5 = getCVOutFromModel(svmModel, X_train[notCategoryFeatures], y_train, preTrans=preProcSTD,\n",
    "                            nFolds=GLOBAL_NFOLD,\n",
    "                            randomState=GLOBAL_RANDOM_CV, needScores=True)\n",
    "y6, sc6 = getCVOutFromModel(knnModel, X_train[notCategoryFeatures], y_train, preTrans=preProcSTD,\n",
    "                            nFolds=GLOBAL_NFOLD,\n",
    "                            randomState=GLOBAL_RANDOM_CV, needScores=True)\n",
    "y7, sc7 = getCVOutFromModel(logL1Model, X_train[notCategoryFeatures], y_train, preTrans=preProcSTD,\n",
    "                            nFolds=GLOBAL_NFOLD,\n",
    "                            randomState=GLOBAL_RANDOM_CV, needScores=True)\n",
    "y8, sc8 = getCVOutFromModel(logL2Model, X_train[notCategoryFeatures], y_train, preTrans=preProcSTD,\n",
    "                            nFolds=GLOBAL_NFOLD,\n",
    "                            randomState=GLOBAL_RANDOM_CV, needScores=True)\n",
    "y9, sc9 = getCVOutFromModel(sgdModel, X_train[notCategoryFeatures], y_train, preTrans=preProcSTD,\n",
    "                            nFolds=GLOBAL_NFOLD,\n",
    "                            randomState=GLOBAL_RANDOM_CV, needScores=True)\n",
    "print sc5\n",
    "print sc6\n",
    "print sc7\n",
    "print sc8\n",
    "print sc9"
   ]
  },
  {
   "cell_type": "code",
   "execution_count": 26,
   "metadata": {
    "collapsed": false
   },
   "outputs": [],
   "source": [
    "featureX_train['y5'] = y5\n",
    "featureX_train['y6'] = y6\n",
    "featureX_train['y7'] = y7\n",
    "featureX_train['y8'] = y8\n",
    "# featureX_train['y9'] = y9"
   ]
  },
  {
   "cell_type": "code",
   "execution_count": 27,
   "metadata": {
    "collapsed": true
   },
   "outputs": [],
   "source": [
    "svmModel = SVC(probability=True, random_state=GLOBAL_RND_MODEL, C=0.351)\n",
    "knnModel = KNeighborsClassifier(weights='distance', n_neighbors=150)\n",
    "logL1Model = LogisticRegression(penalty='l1', C=0.15, random_state=GLOBAL_RND_MODEL)\n",
    "logL2Model = LogisticRegression(penalty='l2', C=0.15, random_state=GLOBAL_RND_MODEL)\n",
    "# sgdModel = SGDClassifier(random_state=514, loss='log', alpha=0.0288)\n",
    "\n",
    "svmModel.fit(preProcSTD.transform(X_train[notCategoryFeatures]), y_train)\n",
    "knnModel.fit(preProcSTD.transform(X_train[notCategoryFeatures]), y_train)\n",
    "logL1Model.fit(preProcSTD.transform(X_train[notCategoryFeatures]), y_train)\n",
    "logL2Model.fit(preProcSTD.transform(X_train[notCategoryFeatures]), y_train)\n",
    "\n",
    "yv5 = svmModel.predict_proba(preProcSTD.transform(X_valid[notCategoryFeatures]))\n",
    "yv6 = knnModel.predict_proba(preProcSTD.transform(X_valid[notCategoryFeatures]))\n",
    "yv7 = logL1Model.predict_proba(preProcSTD.transform(X_valid[notCategoryFeatures]))\n",
    "yv8 = logL2Model.predict_proba(preProcSTD.transform(X_valid[notCategoryFeatures]))\n",
    "\n",
    "yt5 = svmModel.predict_proba(preProcSTD.transform(X_test[notCategoryFeatures]))\n",
    "yt6 = knnModel.predict_proba(preProcSTD.transform(X_test[notCategoryFeatures]))\n",
    "yt7 = logL1Model.predict_proba(preProcSTD.transform(X_test[notCategoryFeatures]))\n",
    "yt8 = logL2Model.predict_proba(preProcSTD.transform(X_test[notCategoryFeatures]))\n",
    "\n",
    "# featureX_valid = pd.DataFrame(index=X_valid.index)\n",
    "featureX_valid['y5'] = yv5[:, 1]\n",
    "featureX_valid['y6'] = yv6[:, 1]\n",
    "featureX_valid['y7'] = yv7[:, 1]\n",
    "featureX_valid['y8'] = yv8[:, 1]\n",
    "\n",
    "# featureX_test = pd.DataFrame(index=X_test.index)\n",
    "featureX_test['y5'] = yt5[:, 1]\n",
    "featureX_test['y6'] = yt6[:, 1]\n",
    "featureX_test['y7'] = yt7[:, 1]\n",
    "featureX_test['y8'] = yt8[:, 1]"
   ]
  },
  {
   "cell_type": "code",
   "execution_count": 28,
   "metadata": {
    "collapsed": true
   },
   "outputs": [],
   "source": [
    "ys5 = svmModel.predict_proba(preProcSTD.transform(X_sub[notCategoryFeatures]))\n",
    "ys6 = knnModel.predict_proba(preProcSTD.transform(X_sub[notCategoryFeatures]))\n",
    "ys7 = logL1Model.predict_proba(preProcSTD.transform(X_sub[notCategoryFeatures]))\n",
    "ys8 = logL2Model.predict_proba(preProcSTD.transform(X_sub[notCategoryFeatures]))\n",
    "\n",
    "# featureX_valid = pd.DataFrame(index=X_valid.index)\n",
    "featureX_sub['y5'] = ys5[:, 1]\n",
    "featureX_sub['y6'] = ys6[:, 1]\n",
    "featureX_sub['y7'] = ys7[:, 1]\n",
    "featureX_sub['y8'] = ys8[:, 1]"
   ]
  },
  {
   "cell_type": "code",
   "execution_count": 29,
   "metadata": {
    "collapsed": false
   },
   "outputs": [],
   "source": [
    "# featureX_test.drop('y_', axis=1, inplace=True)"
   ]
  },
  {
   "cell_type": "code",
   "execution_count": 30,
   "metadata": {
    "collapsed": false
   },
   "outputs": [
    {
     "name": "stdout",
     "output_type": "stream",
     "text": [
      "0.239217751047\n",
      "0.263669399234\n",
      "0.212848406214\n"
     ]
    }
   ],
   "source": [
    "print log_loss(y_valid, np.array([1-featureX_valid.mean(axis=1), featureX_valid.mean(axis=1)]).T)\n",
    "print log_loss(y_test, np.array([1-featureX_test.mean(axis=1), featureX_test.mean(axis=1)]).T)\n",
    "print log_loss(y_train, np.array([1-featureX_train.mean(axis=1), featureX_train.mean(axis=1)]).T)\n",
    "# 0.207193396576\n",
    "# 0.218516409148\n",
    "# 0.21697000027"
   ]
  },
  {
   "cell_type": "markdown",
   "metadata": {},
   "source": [
    "# Первая попытка обобщить полученные данные"
   ]
  },
  {
   "cell_type": "code",
   "execution_count": 31,
   "metadata": {
    "collapsed": true
   },
   "outputs": [],
   "source": [
    "X_train_ = pd.concat([X_train, featureX_train], axis=1)"
   ]
  },
  {
   "cell_type": "code",
   "execution_count": 32,
   "metadata": {
    "collapsed": true
   },
   "outputs": [],
   "source": [
    "s = SelectFromModel(RFC(n_estimators=800, criterion='entropy', random_state=GLOBAL_RND_SELECT_MODEL))\n",
    "s.fit(X_train_, y_train);"
   ]
  },
  {
   "cell_type": "code",
   "execution_count": 33,
   "metadata": {
    "collapsed": false
   },
   "outputs": [
    {
     "name": "stdout",
     "output_type": "stream",
     "text": [
      "[0.1907478665913625, 0.271313451732629, 0.18344890965601293, 0.24198346133960713, 0.18690494553749776, 0.18528560678865202, 0.21630595105514619]\n"
     ]
    }
   ],
   "source": [
    "y_, sc_ = getCVOutFromModel(RFC(n_estimators=2500, criterion='entropy', random_state=GLOBAL_RND_MODEL),\n",
    "                            X_train_, y_train, preTrans=s,\n",
    "                            nFolds=7, randomState=GLOBAL_RANDOM_CV, needScores=True)\n",
    "\n",
    "print sc_"
   ]
  },
  {
   "cell_type": "code",
   "execution_count": 34,
   "metadata": {
    "collapsed": false
   },
   "outputs": [
    {
     "data": {
      "text/plain": [
       "RandomForestClassifier(bootstrap=True, class_weight=None, criterion='entropy',\n",
       "            max_depth=None, max_features='auto', max_leaf_nodes=None,\n",
       "            min_samples_leaf=1, min_samples_split=2,\n",
       "            min_weight_fraction_leaf=0.0, n_estimators=2500, n_jobs=1,\n",
       "            oob_score=False, random_state=6534245, verbose=0,\n",
       "            warm_start=False)"
      ]
     },
     "execution_count": 34,
     "metadata": {},
     "output_type": "execute_result"
    }
   ],
   "source": [
    "rf = RFC(n_estimators=2500, criterion='entropy', random_state=GLOBAL_RND_MODEL)\n",
    "rf.fit(s.transform(X_train_), y_train)"
   ]
  },
  {
   "cell_type": "code",
   "execution_count": 35,
   "metadata": {
    "collapsed": false
   },
   "outputs": [
    {
     "name": "stdout",
     "output_type": "stream",
     "text": [
      "0.253204238198\n",
      "0.238914461842\n"
     ]
    }
   ],
   "source": [
    "X_test_ = pd.concat([X_test, featureX_test], axis=1)\n",
    "print log_loss(y_test, rf.predict_proba(s.transform(X_test_)))\n",
    "\n",
    "X_valid_ = pd.concat([X_valid, featureX_valid], axis=1)\n",
    "print log_loss(y_valid, rf.predict_proba(s.transform(X_valid_)))\n",
    "\n",
    "# mean forests\n",
    "# 0.218516409148\n",
    "# 0.207193396576\n",
    "\n",
    "# RFC 25000\n",
    "# 0.217318170197\n",
    "# 0.205574898974"
   ]
  },
  {
   "cell_type": "code",
   "execution_count": 36,
   "metadata": {
    "collapsed": false
   },
   "outputs": [
    {
     "data": {
      "image/png": "[encoded data removed]",
      "text/plain": [
       "<matplotlib.figure.Figure at 0x7fe751f9d2d0>"
      ]
     },
     "metadata": {},
     "output_type": "display_data"
    }
   ],
   "source": [
    "importances = rf.feature_importances_\n",
    "std = np.std([tree.feature_importances_ for tree in rf.estimators_],\n",
    "         axis=0)\n",
    "indices = np.argsort(importances)[::-1]\n",
    "\n",
    "plt.figure(figsize=(8,4))\n",
    "plt.title(\"Feature importances\")\n",
    "plt.bar(range(len(indices)), importances[indices])\n",
    "plt.xticks(arange(1, len(indices), 25), X_valid_.columns[s.get_support()][indices])\n",
    "plt.xlim([-1, len(indices)])\n",
    "plt.show()"
   ]
  },
  {
   "cell_type": "markdown",
   "metadata": {},
   "source": [
    "### Обертка для getCVOutFromModel"
   ]
  },
  {
   "cell_type": "code",
   "execution_count": 37,
   "metadata": {
    "collapsed": false
   },
   "outputs": [],
   "source": [
    "def getCVModel_fit_transform(inputClf, X, y,\n",
    "                              validData, testData,\n",
    "                              colName='Prediction', preTrans=None, nFolds=3, randomState=0,\n",
    "                              needScores=False):\n",
    "    clf = inputClf\n",
    "    if needScores:\n",
    "        y_, sc_ = getCVOutFromModel(clf, X, y, colName=colName, preTrans=preTrans,\n",
    "                                nFolds=nFolds, randomState=randomState, needScores=needScores)\n",
    "    else:\n",
    "        y_ = getCVOutFromModel(clf, X, y, colName=colName, preTrans=preTrans,\n",
    "                                nFolds=nFolds, randomState=randomState, needScores=needScores)\n",
    "\n",
    "    Xfit_ = preTrans.transform(X) if preTrans else X\n",
    "    clf.fit(Xfit_, y)\n",
    "\n",
    "    Xvalid_ = preTrans.transform(validData) if preTrans else validData\n",
    "    Xtest_ = preTrans.transform(testData) if preTrans else testData\n",
    "    \n",
    "    yv_ = clf.predict_proba(Xvalid_)\n",
    "    yt_ = clf.predict_proba(Xtest_)\n",
    "    \n",
    "    if needScores:\n",
    "        return y_, yv_, yt_, clf, sc_\n",
    "    else:\n",
    "        return y_, yv_, yt_, clf"
   ]
  },
  {
   "cell_type": "markdown",
   "metadata": {},
   "source": [
    "# One hot encoder\n",
    "9-я модель Обучаем RandomForest на данных после OneHotEncoder"
   ]
  },
  {
   "cell_type": "code",
   "execution_count": 38,
   "metadata": {
    "collapsed": false
   },
   "outputs": [
    {
     "data": {
      "text/plain": [
       "SelectFromModel(estimator=RandomForestClassifier(bootstrap=True, class_weight=None, criterion='entropy',\n",
       "            max_depth=None, max_features='auto', max_leaf_nodes=None,\n",
       "            min_samples_leaf=1, min_samples_split=2,\n",
       "            min_weight_fraction_leaf=0.0, n_estimators=600, n_jobs=1,\n",
       "            oob_score=False, random_state=5432543, verbose=0,\n",
       "            warm_start=False),\n",
       "        prefit=False, threshold=None)"
      ]
     },
     "execution_count": 38,
     "metadata": {},
     "output_type": "execute_result"
    }
   ],
   "source": [
    "from sklearn.preprocessing import OneHotEncoder\n",
    "from sklearn.preprocessing import LabelEncoder\n",
    "\n",
    "allCategoryFeatures = Meta[Meta.Column_Type == 'Category'].index\n",
    "allCategoryFeatures = allCategoryFeatures.drop('V48')\n",
    "\n",
    "X_trainOne = X_train.copy()\n",
    "X_validOne = X_valid.copy()\n",
    "X_testOne = X_test.copy()\n",
    "X_subOne = X_sub.copy()\n",
    "\n",
    "\n",
    "X_trainOne['type'] = 'train'\n",
    "X_validOne['type'] = 'valid'\n",
    "X_testOne['type'] = 'test'\n",
    "X_subOne['type'] = 'sub'\n",
    "\n",
    "X_FULL = pd.concat([X_trainOne, X_validOne, X_testOne, X_subOne], axis=0)\n",
    "toOnehot = np.abs(X_FULL[allCategoryFeatures].as_matrix())\n",
    "onehotX = OneHotEncoder(sparse=False).fit_transform(toOnehot)\n",
    "\n",
    "X_onehot = pd.concat([X_FULL, pd.DataFrame(onehotX, index=X_FULL.index)], axis=1)\n",
    "\n",
    "X_trainOne = X_onehot[X_onehot.type == 'train'].drop('type', axis=1)\n",
    "X_validOne = X_onehot[X_onehot.type == 'valid'].drop('type', axis=1)\n",
    "X_testOne = X_onehot[X_onehot.type == 'test'].drop('type', axis=1)\n",
    "X_subOne = X_onehot[X_onehot.type == 'sub'].drop('type', axis=1)\n",
    "\n",
    "\n",
    "clf_onehot = RFC(n_estimators=600, criterion='entropy', random_state=GLOBAL_RND_SELECT_MODEL)\n",
    "sfm_rf_onehot = SelectFromModel(clf_onehot)\n",
    "sfm_rf_onehot.fit(X_trainOne, y_train)"
   ]
  },
  {
   "cell_type": "code",
   "execution_count": 39,
   "metadata": {
    "collapsed": false
   },
   "outputs": [
    {
     "name": "stdout",
     "output_type": "stream",
     "text": [
      "[0.20401263543424983, 0.21891730913904392, 0.25053464916747209, 0.25705241694509889, 0.1497458451458204, 0.20634664791160937, 0.28804347460796376, 0.16988438507065459, 0.20787219242461799, 0.18303084733782685, 0.18394564027323235, 0.20834599719257729, 0.23172787323910973]\n",
      "0.241222020365\n",
      "0.260326840329\n"
     ]
    }
   ],
   "source": [
    "y_, yv_, yt_, clf, sc_ = getCVModel_fit_transform(\n",
    "                            RFC(n_estimators=1600, criterion='entropy', random_state=GLOBAL_RND_MODEL),\n",
    "                            X=X_trainOne,\n",
    "                            y=y_train,\n",
    "                            validData=X_validOne,\n",
    "                            testData=X_testOne,\n",
    "                            preTrans=sfm_rf_onehot, \n",
    "                            nFolds=GLOBAL_NFOLD, randomState=GLOBAL_RANDOM_CV, needScores=True)\n",
    "\n",
    "print sc_\n",
    "print log_loss(y_valid, yv_)\n",
    "print log_loss(y_test, yt_)"
   ]
  },
  {
   "cell_type": "code",
   "execution_count": 40,
   "metadata": {
    "collapsed": false
   },
   "outputs": [],
   "source": [
    "featureX_train['OneHot'] = y_\n",
    "featureX_test['OneHot'] = yt_[:, 1]\n",
    "featureX_valid['OneHot'] = yv_[:, 1]\n",
    "featureX_sub['OneHot'] = clf.predict_proba(sfm_rf_onehot.transform( X_subOne))[:, 1]"
   ]
  },
  {
   "cell_type": "markdown",
   "metadata": {},
   "source": [
    "## Counting\n",
    "10-я модель. Заменяем категориальные признаки счетчиками."
   ]
  },
  {
   "cell_type": "code",
   "execution_count": 41,
   "metadata": {
    "collapsed": true
   },
   "outputs": [],
   "source": [
    "def transform(X, y, col, kfold=5, random_state=512):\n",
    "    dt = pd.DataFrame(index=X.index)\n",
    "    dt['y'] = y\n",
    "    dt[col] = X[col]\n",
    "    \n",
    "    R = pd.DataFrame(columns=[col])\n",
    "    \n",
    "    if(kfold > 1):\n",
    "        kf = KFold(n=dt.shape[0], n_folds=kfold, shuffle=True, random_state=random_state)\n",
    "    \n",
    "        for train_index, test_index in kf:\n",
    "            tr_index = dt.index[train_index]\n",
    "            ts_index = dt.index[test_index]\n",
    "            gp = dt.ix[tr_index,:].groupby(col)\n",
    "            R = pd.concat([X.ix[ts_index, col].replace(gp.mean()['y'].to_dict()), R], axis=0)\n",
    "        \n",
    "        return R[0]\n",
    "    \n",
    "def fit(X, y, col):\n",
    "    dt = X.copy()\n",
    "    dt['y'] = y\n",
    "    gp = dt.groupby(col)\n",
    "    return gp.mean()['y']"
   ]
  },
  {
   "cell_type": "code",
   "execution_count": 42,
   "metadata": {
    "collapsed": false
   },
   "outputs": [],
   "source": [
    "mostImpotence = X_valid.columns[selectModel_1.get_support()][indices]\n",
    "# mostImpotence"
   ]
  },
  {
   "cell_type": "code",
   "execution_count": 43,
   "metadata": {
    "collapsed": true
   },
   "outputs": [],
   "source": [
    "X_trainCount = X_train.copy()\n",
    "X_validCount = X_valid.copy()\n",
    "X_testCount = X_test.copy()\n",
    "X_subCount = X_sub.copy()"
   ]
  },
  {
   "cell_type": "code",
   "execution_count": 44,
   "metadata": {
    "collapsed": false
   },
   "outputs": [
    {
     "name": "stdout",
     "output_type": "stream",
     "text": [
      "CPU times: user 6min 42s, sys: 1min 15s, total: 7min 57s\n",
      "Wall time: 7min 57s\n"
     ]
    }
   ],
   "source": [
    "%%time\n",
    "A = Meta.Column_Type #[mostImpotence]\n",
    "mostImpCategoryFeatures = A[A == 'Category'].index\n",
    "mostImpCategoryFeatures = mostImpCategoryFeatures.drop('V48')\n",
    "\n",
    "for col in mostImpCategoryFeatures:\n",
    "    X_trainCount[col + 'trans'] = transform(X_trainCount, y_train, col=col,\n",
    "                                            kfold=GLOBAL_NFOLD, random_state=GLOBAL_RANDOM_CV)\n",
    "\n",
    "for col in mostImpCategoryFeatures:\n",
    "    g = fit(X_trainCount, y_train, col=col)\n",
    "    X_validCount[col + 'trans'] = X_validCount[col].replace(g)\n",
    "    X_testCount[col + 'trans'] = X_testCount[col].replace(g)\n",
    "    X_subCount[col + 'trans'] = X_subCount[col].replace(g)"
   ]
  },
  {
   "cell_type": "code",
   "execution_count": 45,
   "metadata": {
    "collapsed": false
   },
   "outputs": [
    {
     "data": {
      "text/plain": [
       "SelectFromModel(estimator=RandomForestClassifier(bootstrap=True, class_weight=None, criterion='entropy',\n",
       "            max_depth=None, max_features='auto', max_leaf_nodes=None,\n",
       "            min_samples_leaf=1, min_samples_split=2,\n",
       "            min_weight_fraction_leaf=0.0, n_estimators=600, n_jobs=1,\n",
       "            oob_score=False, random_state=5432543, verbose=0,\n",
       "            warm_start=False),\n",
       "        prefit=False, threshold=None)"
      ]
     },
     "execution_count": 45,
     "metadata": {},
     "output_type": "execute_result"
    }
   ],
   "source": [
    "sfm_rf_count = SelectFromModel(RFC(n_estimators=600, criterion='entropy', random_state=GLOBAL_RND_SELECT_MODEL))\n",
    "sfm_rf_count.fit(X_trainCount, y_train)"
   ]
  },
  {
   "cell_type": "code",
   "execution_count": 46,
   "metadata": {
    "collapsed": false
   },
   "outputs": [
    {
     "name": "stdout",
     "output_type": "stream",
     "text": [
      "[0.20342261190467487, 0.21556472906284033, 0.24671144321497215, 0.26343570831755658, 0.14620140448498836, 0.20260329741129618, 0.28400498109408262, 0.15875017745964662, 0.20435201763399771, 0.18127071594055014, 0.17570684454014396, 0.20520438209021136, 0.23539243657444112]\n",
      "0.236159597121\n",
      "0.276549691171\n"
     ]
    }
   ],
   "source": [
    "y_, yv_, yt_, clf, sc_ = getCVModel_fit_transform(\n",
    "                            RFC(n_estimators=1600, criterion='entropy', random_state=GLOBAL_RND_MODEL),\n",
    "                            X=X_trainCount,\n",
    "                            y=y_train,\n",
    "                            validData=X_validCount,\n",
    "                            testData=X_testCount,\n",
    "                            preTrans=sfm_rf_count, \n",
    "                            nFolds=GLOBAL_NFOLD, randomState=GLOBAL_RANDOM_CV, needScores=True)\n",
    "\n",
    "print sc_\n",
    "print log_loss(y_valid, yv_)\n",
    "print log_loss(y_test, yt_)\n",
    "\n",
    "# 0.18625053974\n",
    "# 0.237523654944"
   ]
  },
  {
   "cell_type": "code",
   "execution_count": 47,
   "metadata": {
    "collapsed": false
   },
   "outputs": [
    {
     "data": {
      "text/plain": [
       "(103, 2509)"
      ]
     },
     "execution_count": 47,
     "metadata": {},
     "output_type": "execute_result"
    }
   ],
   "source": [
    "X_validCount.shape"
   ]
  },
  {
   "cell_type": "code",
   "execution_count": 48,
   "metadata": {
    "collapsed": true
   },
   "outputs": [],
   "source": [
    "featureX_train['Count'] = y_\n",
    "featureX_test['Count'] = yt_[:, 1]\n",
    "featureX_valid['Count'] = yv_[:, 1]"
   ]
  },
  {
   "cell_type": "code",
   "execution_count": 49,
   "metadata": {
    "collapsed": true
   },
   "outputs": [],
   "source": [
    "featureX_sub['Count'] = clf.predict_proba(sfm_rf_count.transform(X_subCount))[:, 1]"
   ]
  },
  {
   "cell_type": "markdown",
   "metadata": {},
   "source": [
    "## Выкидываем некоторые признаки\n",
    "11-я модель. Выкидываем признаки, которые с низкой дисперсией. Потом обучаем RandomForest"
   ]
  },
  {
   "cell_type": "code",
   "execution_count": 50,
   "metadata": {
    "collapsed": true
   },
   "outputs": [],
   "source": [
    "nzvFeatures = [\"V3\", \"V14\", \"V18\", \"V20\", \"V26\", \"V27\", \"V45\", \"V46\", \"V47\", \"V49\",\n",
    "               \"V50\", \"V51\", \"V56\", \"V58\", \"V59\", \"V60\", \"V61\", \"V62\", \"V65\", \"V66\", \n",
    "                \"V73\", \"V90\", \"V94\", \"V96\", \"V98\", \"V153\", \"V196\", \"V202\", \"V347\", \"V357\",\n",
    "               \"V380\", \"V411\", \"V439\", \"V458\", \"V482\", \"V483\", \"V504\", \"V519\", \"V566\",\n",
    "                 \"V581\", \"V583\", \"V601\", \"V602\", \"V603\", \"V604\", \"V607\", \"V637\", \"V667\",\n",
    "               \"V670\", \"V671\", \"V675\", \"V698\", \"V723\", \"V773\", \"V781\", \"V801\", \"V817\", \n",
    "                 \"V834\", \"V840\", \"V841\", \"V849\", \"V887\" , \"V920\", \"V921\", \"V953\", \"V986\", \n",
    "               \"V987\", \"V988\", \"V1012\", \"V1016\", \"V1042\", \"V1047\", \"V1069\", \"V1070\", \n",
    "                 \"V1071\", \"V1114\", \"V1170\", \"V1208\", \"V1209\", \"V1226\", \"V1245\", \"V1271\", \"V1294\", \"V1329\"]"
   ]
  },
  {
   "cell_type": "code",
   "execution_count": 51,
   "metadata": {
    "collapsed": false
   },
   "outputs": [],
   "source": [
    "X_trainDROP = X_train.drop(nzvFeatures, axis=1)\n",
    "X_validDROP = X_valid.drop(nzvFeatures, axis=1)\n",
    "X_testDROP = X_test.drop(nzvFeatures, axis=1)\n",
    "X_subDROP  = X_sub.drop(nzvFeatures, axis=1)"
   ]
  },
  {
   "cell_type": "code",
   "execution_count": 52,
   "metadata": {
    "collapsed": false
   },
   "outputs": [
    {
     "name": "stdout",
     "output_type": "stream",
     "text": [
      "[0.19721749655950163, 0.22110920964237379, 0.25633386778820844, 0.26254187171878651, 0.1469910800756366, 0.20018147394490693, 0.28448373889825967, 0.16808106179697752, 0.20674986621678521, 0.17528545573116472, 0.18409925929986345, 0.20781524789831077, 0.23063093742691315]\n",
      "0.237943660771\n",
      "0.254434547276\n",
      "CPU times: user 15min 27s, sys: 376 ms, total: 15min 28s\n",
      "Wall time: 15min 28s\n"
     ]
    }
   ],
   "source": [
    "%%time\n",
    "sfm_rf_DROP = SelectFromModel(RFC(n_estimators=700, criterion='entropy', random_state=GLOBAL_RND_SELECT_MODEL))\n",
    "sfm_rf_DROP.fit(X_trainDROP, y_train)\n",
    "y_, yv_, yt_, clf, sc_ = getCVModel_fit_transform(\n",
    "                            RFC(n_estimators=2600, criterion='entropy', random_state=GLOBAL_RND_MODEL),\n",
    "                            X=X_trainDROP,\n",
    "                            y=y_train,\n",
    "                            validData=X_validDROP,\n",
    "                            testData=X_testDROP,\n",
    "                            preTrans=sfm_rf_DROP, \n",
    "                            nFolds=GLOBAL_NFOLD, randomState=GLOBAL_RANDOM_CV, needScores=True)\n",
    "\n",
    "print sc_\n",
    "print log_loss(y_valid, yv_)\n",
    "print log_loss(y_test, yt_)\n",
    "\n",
    "featureX_train['Drop'] = y_\n",
    "featureX_test['Drop'] = yt_[:, 1]\n",
    "featureX_valid['Drop'] = yv_[:, 1]\n",
    "featureX_sub['Drop'] = clf.predict_proba(sfm_rf_DROP.transform(X_subDROP))[:, 1]"
   ]
  },
  {
   "cell_type": "markdown",
   "metadata": {},
   "source": [
    "### High cor features\n",
    "12-я модель. Выкидываем один из признаков, который сильно коррелирует с другим. Потом обучаем RandomForest. Файл corr.up.8.csv был получен с помощью функции <a href=\"http://topepo.github.io/caret/preprocess.html\">findLinearCombos</a>. Аналог в python не нашел, писать стало лень"
   ]
  },
  {
   "cell_type": "code",
   "execution_count": 53,
   "metadata": {
    "collapsed": true
   },
   "outputs": [],
   "source": [
    "highCorFeatures = pd.read_csv('corr.up.8.csv').highlyCorDescr"
   ]
  },
  {
   "cell_type": "code",
   "execution_count": 54,
   "metadata": {
    "collapsed": false
   },
   "outputs": [],
   "source": [
    "X_trainDROP = X_train.drop(highCorFeatures, axis=1)\n",
    "X_validDROP = X_valid.drop(highCorFeatures, axis=1)\n",
    "X_testDROP = X_test.drop(highCorFeatures, axis=1)\n",
    "X_subDROP  = X_sub.drop(highCorFeatures, axis=1)"
   ]
  },
  {
   "cell_type": "code",
   "execution_count": 55,
   "metadata": {
    "collapsed": false
   },
   "outputs": [
    {
     "name": "stdout",
     "output_type": "stream",
     "text": [
      "[0.20159816634233613, 0.22064471012021566, 0.25168631742230618, 0.25974816283347701, 0.14791012192370728, 0.19711985261328976, 0.27915127506287152, 0.16667504679250442, 0.20615335535428012, 0.1809789229173305, 0.17966669827661272, 0.20843379677212648, 0.22638061719516583]\n",
      "0.238324317566\n",
      "0.259653918799\n",
      "CPU times: user 7min 28s, sys: 108 ms, total: 7min 28s\n",
      "Wall time: 7min 28s\n"
     ]
    }
   ],
   "source": [
    "%%time\n",
    "sfm_rf_DROP = SelectFromModel(RFC(n_estimators=500, criterion='entropy', random_state=GLOBAL_RND_SELECT_MODEL))\n",
    "sfm_rf_DROP.fit(X_trainDROP, y_train)\n",
    "y_, yv_, yt_, clf, sc_ = getCVModel_fit_transform(\n",
    "                            RFC(n_estimators=2000, criterion='entropy', random_state=GLOBAL_RND_MODEL),\n",
    "                            X=X_trainDROP,\n",
    "                            y=y_train,\n",
    "                            validData=X_validDROP,\n",
    "                            testData=X_testDROP,\n",
    "                            preTrans=sfm_rf_DROP, \n",
    "                            nFolds=GLOBAL_NFOLD, randomState=GLOBAL_RANDOM_CV, needScores=True)\n",
    "\n",
    "print sc_\n",
    "print log_loss(y_valid, yv_)\n",
    "print log_loss(y_test, yt_)\n",
    "\n",
    "featureX_train['Drop_HIGH_Cor'] = y_\n",
    "featureX_test['Drop_HIGH_Cor'] = yt_[:, 1]\n",
    "featureX_valid['Drop_HIGH_Cor'] = yv_[:, 1]\n",
    "featureX_sub['Drop_HIGH_Cor'] = clf.predict_proba(sfm_rf_DROP.transform(X_subDROP))[:, 1]"
   ]
  },
  {
   "cell_type": "markdown",
   "metadata": {},
   "source": [
    "## Склеим рядом стоящие аллеи\n",
    "Не имеет рационального смысла, пробовал вдруг зажгёт. И получим еще несколько моделей."
   ]
  },
  {
   "cell_type": "code",
   "execution_count": 86,
   "metadata": {
    "collapsed": true
   },
   "outputs": [],
   "source": [
    "X_train_concat = X_train.copy()\n",
    "X_test_concat = X_test.copy()\n",
    "X_valid_concat = X_valid.copy()\n",
    "X_sub_concat = X_sub.copy()"
   ]
  },
  {
   "cell_type": "code",
   "execution_count": 87,
   "metadata": {
    "collapsed": false
   },
   "outputs": [],
   "source": [
    "v1 = 330\n",
    "v2 = 331\n",
    "v3 = 332\n",
    "v4 = 333\n",
    "\n",
    "for i in range(0, 470):\n",
    "    X_train_concat['VV' + str(v1+v2)] = X_train.iloc[:, [v1, v2]].astype(str).sum(axis=1).apply(lambda x: x.replace('.', '#'))\n",
    "    X_test_concat['VV' + str(v1+v2)]  = X_test.iloc[:, [v1, v2]].astype(str).sum(axis=1).apply(lambda x: x.replace('.', '#'))\n",
    "    X_valid_concat['VV' + str(v1+v2)] = X_valid.iloc[:, [v1, v2]].astype(str).sum(axis=1).apply(lambda x: x.replace('.', '#'))\n",
    "    X_sub_concat['VV' + str(v1+v2)]   = X_sub.iloc[:, [v1, v2]].astype(str).sum(axis=1).apply(lambda x: x.replace('.', '#'))\n",
    "    v1 += 2\n",
    "    v2 += 2    \n",
    "    \n",
    "v1 = 330\n",
    "v2 = 331\n",
    "v3 = 332\n",
    "v4 = 333\n",
    "\n",
    "for i in range(0, 330):\n",
    "    X_train_concat['VVV' + str(v1+v2+v3)] = X_train.iloc[:, [v1, v2, v3]].astype(str).sum(axis=1).apply(lambda x: x.replace('.', '#'))\n",
    "    X_test_concat['VVV' + str(v1+v2+v3)]  = X_test.iloc[:, [v1, v2, v3]].astype(str).sum(axis=1).apply(lambda x: x.replace('.', '#'))\n",
    "    X_valid_concat['VVV' + str(v1+v2+v3)] = X_valid.iloc[:, [v1, v2, v3]].astype(str).sum(axis=1).apply(lambda x: x.replace('.', '#'))\n",
    "    X_sub_concat['VVV' + str(v1+v2+v3)]   = X_sub.iloc[:, [v1, v2, v3]].astype(str).sum(axis=1).apply(lambda x: x.replace('.', '#'))\n",
    "    v1 += 3\n",
    "    v2 += 3\n",
    "    v3 += 3"
   ]
  },
  {
   "cell_type": "code",
   "execution_count": 88,
   "metadata": {
    "collapsed": false
   },
   "outputs": [],
   "source": [
    "def dummy_col(X, col):\n",
    "    X = pd.concat([X, pd.get_dummies(X[col]).rename(columns=lambda x: col + str(x))], axis=1)\n",
    "#     X.drop(col, axis=1, inplace=True)\n",
    "    return X.drop(col, axis=1)"
   ]
  },
  {
   "cell_type": "code",
   "execution_count": null,
   "metadata": {
    "collapsed": false
   },
   "outputs": [],
   "source": [
    "# for col in X_train_concat.columns[-1049:]:\n",
    "#     X_train_concat = dummy_col(X_train_concat, col)\n",
    "#     X_valid_concat = dummy_col(X_valid_concat, col)\n",
    "#     X_test_concat  = dummy_col(X_test_concat, col)\n",
    "#     X_sub_concat   = dummy_col(X_sub_concat, col)"
   ]
  },
  {
   "cell_type": "code",
   "execution_count": null,
   "metadata": {
    "collapsed": false
   },
   "outputs": [],
   "source": [
    "X_train_concat['type'] = 'train'\n",
    "X_valid_concat['type'] = 'valid'\n",
    "X_test_concat['type'] = 'test'\n",
    "X_sub_concat['type'] = 'sub'\n",
    "\n",
    "X_FULL_concat = pd.concat([X_train_concat, X_valid_concat, X_test_concat, X_sub_concat], axis=0)\n",
    "for col in X_FULL_concat.columns[-1049:]:\n",
    "    X_FULL_concat = dummy_col(X_FULL_concat, col)\n",
    "    \n",
    "X_train_concat = X_FULL_concat[X_FULL_concat.typetrain == 1].drop(['typesub', 'typevalid', 'typetest', 'typetrain'], axis=1)\n",
    "X_valid_concat = X_FULL_concat[X_FULL_concat.typevalid == 1].drop(['typesub', 'typevalid', 'typetest', 'typetrain'], axis=1)\n",
    "X_test_concat = X_FULL_concat[X_FULL_concat.typetest == 1].drop(['typesub', 'typevalid', 'typetest', 'typetrain'], axis=1)\n",
    "X_sub_concat = X_FULL_concat[X_FULL_concat.typesub == 1].drop(['typesub', 'typevalid', 'typetest', 'typetrain'], axis=1)\n"
   ]
  },
  {
   "cell_type": "code",
   "execution_count": null,
   "metadata": {
    "collapsed": false
   },
   "outputs": [],
   "source": [
    "# X_train_concat.head()"
   ]
  },
  {
   "cell_type": "code",
   "execution_count": null,
   "metadata": {
    "collapsed": false
   },
   "outputs": [],
   "source": [
    "print X_train_concat.shape\n",
    "print X_valid_concat.shape\n",
    "print X_test_concat.shape\n",
    "print X_sub_concat.shape\n",
    "print X_train.shape\n",
    "print X_valid.shape\n",
    "print X_test.shape\n",
    "print X_sub.shape"
   ]
  },
  {
   "cell_type": "code",
   "execution_count": null,
   "metadata": {
    "collapsed": false
   },
   "outputs": [],
   "source": [
    "X_train_concat.head()"
   ]
  },
  {
   "cell_type": "code",
   "execution_count": null,
   "metadata": {
    "collapsed": false
   },
   "outputs": [],
   "source": [
    "sfm_rf_concat = SelectFromModel(RFC(n_estimators=650,\n",
    "                                    criterion='entropy', random_state=GLOBAL_RND_SELECT_MODEL),\n",
    "                               threshold='7*mean')\n",
    "sfm_rf_concat.fit(X_train_concat, y_train)\n",
    "y_, yv_, yt_, clf, sc_ = getCVModel_fit_transform(\n",
    "                            RFC(n_estimators=2000, criterion='entropy', random_state=GLOBAL_RND_MODEL),\n",
    "                            X=X_train_concat,\n",
    "                            y=y_train,\n",
    "                            validData=X_valid_concat,\n",
    "                            testData=X_test_concat,\n",
    "                            preTrans=sfm_rf_concat, \n",
    "                            nFolds=GLOBAL_NFOLD, randomState=GLOBAL_RANDOM_CV, needScores=True)\n",
    "\n",
    "\n",
    "print sc_\n",
    "print log_loss(y_valid, yv_)\n",
    "print log_loss(y_test, yt_)\n",
    "\n",
    "featureX_train['ConcatGen7_mean'] = y_\n",
    "featureX_test['ConcatGen7_mean'] = yt_[:, 1]\n",
    "featureX_valid['ConcatGen7_mean'] = yv_[:, 1]\n",
    "featureX_sub['ConcatGen7_mean'] = clf.predict_proba(sfm_rf_concat.transform(X_sub_concat))[:, 1]"
   ]
  },
  {
   "cell_type": "code",
   "execution_count": null,
   "metadata": {
    "collapsed": false
   },
   "outputs": [],
   "source": [
    "sfm_rf_concat = SelectFromModel(RFC(n_estimators=650,\n",
    "                                    criterion='entropy', random_state=GLOBAL_RND_SELECT_MODEL),\n",
    "                               threshold='5*mean')\n",
    "sfm_rf_concat.fit(X_train_concat, y_train)\n",
    "y_, yv_, yt_, clf, sc_ = getCVModel_fit_transform(\n",
    "                            RFC(n_estimators=2000, criterion='entropy', random_state=GLOBAL_RND_MODEL),\n",
    "                            X=X_train_concat,\n",
    "                            y=y_train,\n",
    "                            validData=X_valid_concat,\n",
    "                            testData=X_test_concat,\n",
    "                            preTrans=sfm_rf_concat, \n",
    "                            nFolds=GLOBAL_NFOLD, randomState=GLOBAL_RANDOM_CV, needScores=True)\n",
    "\n",
    "\n",
    "print sc_\n",
    "print log_loss(y_valid, yv_)\n",
    "print log_loss(y_test, yt_)\n",
    "\n",
    "featureX_train['ConcatGen5_mean'] = y_\n",
    "featureX_test['ConcatGen5_mean'] = yt_[:, 1]\n",
    "featureX_valid['ConcatGen5_mean'] = yv_[:, 1]\n",
    "featureX_sub['ConcatGen5_mean'] = clf.predict_proba(sfm_rf_concat.transform(X_sub_concat))[:, 1]"
   ]
  },
  {
   "cell_type": "code",
   "execution_count": null,
   "metadata": {
    "collapsed": false
   },
   "outputs": [],
   "source": [
    "sfm_rf_concat = SelectFromModel(RFC(n_estimators=650,\n",
    "                                    criterion='entropy', random_state=GLOBAL_RND_SELECT_MODEL),\n",
    "                               threshold='5*median')\n",
    "sfm_rf_concat.fit(X_train_concat, y_train)\n",
    "y_, yv_, yt_, clf, sc_ = getCVModel_fit_transform(\n",
    "                            RFC(n_estimators=2000, criterion='entropy', random_state=GLOBAL_RND_MODEL),\n",
    "                            X=X_train_concat,\n",
    "                            y=y_train,\n",
    "                            validData=X_valid_concat,\n",
    "                            testData=X_test_concat,\n",
    "                            preTrans=sfm_rf_concat, \n",
    "                            nFolds=GLOBAL_NFOLD, randomState=GLOBAL_RANDOM_CV, needScores=True)\n",
    "\n",
    "\n",
    "print sc_\n",
    "print log_loss(y_valid, yv_)\n",
    "print log_loss(y_test, yt_)\n",
    "\n",
    "featureX_train['ConcatGen5_median'] = y_\n",
    "featureX_test['ConcatGen5_median'] = yt_[:, 1]\n",
    "featureX_valid['ConcatGen5_median'] = yv_[:, 1]\n",
    "featureX_sub['ConcatGen5_median'] = clf.predict_proba(sfm_rf_concat.transform(X_sub_concat))[:, 1]"
   ]
  },
  {
   "cell_type": "code",
   "execution_count": null,
   "metadata": {
    "collapsed": false
   },
   "outputs": [],
   "source": [
    "importances = clf.feature_importances_\n",
    "std = np.std([tree.feature_importances_ for tree in clf.estimators_],\n",
    "         axis=0)\n",
    "indices = np.argsort(importances)[::-1]\n",
    "\n",
    "plt.figure(figsize=(8,4))\n",
    "plt.title(\"Feature importances\")\n",
    "plt.bar(range(len(indices)), importances[indices])\n",
    "plt.xticks(arange(1, len(indices), 50), X_train_concat.columns[sfm_rf_concat.get_support()][indices])\n",
    "plt.xlim([-1, len(indices)])\n",
    "plt.show()"
   ]
  },
  {
   "cell_type": "markdown",
   "metadata": {},
   "source": [
    "## Разобьем данные по некоторым признакам\n",
    "Были просмотрены все некатегориальные признаки и выбраны, которые показались интересными"
   ]
  },
  {
   "cell_type": "code",
   "execution_count": null,
   "metadata": {
    "collapsed": false
   },
   "outputs": [],
   "source": [
    "%%time\n",
    "\n",
    "col = 'V103'\n",
    "\n",
    "rnd_seed = 0\n",
    "for col in ['V103', 'V4', 'V8', 'V42', 'V41', 'V91', 'V95', 'V120', 'V115', 'V181']:\n",
    "    print col\n",
    "    X1 = X_train.copy()\n",
    "    X1['y'] = y_train\n",
    "    y1 = X1[X1[col] != 0].y.as_matrix()\n",
    "    X1 = X1[X1[col] != 0].drop('y', axis=1)\n",
    "\n",
    "    X0 = X_train.copy()\n",
    "    X0['y'] = y_train\n",
    "    y0 = X0[X0[col] == 0].y.as_matrix()\n",
    "    X0 = X0[X0[col] == 0].drop('y', axis=1)\n",
    "\n",
    "    X1_valid = X_valid.copy()\n",
    "    X1_valid['y'] = y_valid\n",
    "    y1_valid = X1_valid[X1_valid[col] != 0].y.as_matrix()\n",
    "    X1_valid = X1_valid[X1_valid[col] != 0].drop('y', axis=1)\n",
    "\n",
    "    X0_valid = X_valid.copy()\n",
    "    X0_valid['y'] = y_valid\n",
    "    y0_valid = X0_valid[X0_valid[col] == 0].y.as_matrix()\n",
    "    X0_valid = X0_valid[X0_valid[col] == 0].drop('y', axis=1)\n",
    "\n",
    "    X1_test = X_test.copy()\n",
    "    X1_test['y'] = y_test\n",
    "    y1_test = X1_test[X1_test[col] != 0].y.as_matrix()\n",
    "    X1_test = X1_test[X1_test[col] != 0].drop('y', axis=1)\n",
    "\n",
    "    X0_test = X_test.copy()\n",
    "    X0_test['y'] = y_test\n",
    "    y0_test = X0_test[X0_test[col] == 0].y.as_matrix()\n",
    "    X0_test = X0_test[X0_test[col] == 0].drop('y', axis=1)\n",
    "\n",
    "\n",
    "    X1_sub = X_sub.copy()\n",
    "    X1_sub = X1_sub[X1_sub[col] != 0]\n",
    "    X0_sub = X_sub.copy()\n",
    "    X0_sub = X0_sub[X0_sub[col] == 0]\n",
    "\n",
    "\n",
    "    sfm_rf_concat_1 = SelectFromModel(RFC(n_estimators=500, criterion='entropy', random_state=GLOBAL_RND_SELECT_MODEL))\n",
    "    sfm_rf_concat_1.fit(X1, y1)\n",
    "    y1_, yv1_, yt1_, clf1, sc1_ = getCVModel_fit_transform(\n",
    "                                RFC(n_estimators=2000, criterion='entropy', random_state=GLOBAL_RND_MODEL+rnd_seed),\n",
    "                                X=X1,\n",
    "                                y=y1,\n",
    "                                validData=X1_valid,\n",
    "                                testData=X1_test,\n",
    "                                preTrans=sfm_rf_concat_1, \n",
    "                                nFolds=GLOBAL_NFOLD, randomState=GLOBAL_RANDOM_CV, needScores=True)\n",
    "\n",
    "    ys1_ = clf1.predict_proba(sfm_rf_concat_1.transform(X1_sub))\n",
    "\n",
    "\n",
    "    sfm_rf_concat_0 = SelectFromModel(RFC(n_estimators=500, criterion='entropy', random_state=GLOBAL_RND_SELECT_MODEL))\n",
    "    sfm_rf_concat_0.fit(X0, y0)\n",
    "    y0_, yv0_, yt0_, clf0, sc0_ = getCVModel_fit_transform(\n",
    "                                RFC(n_estimators=2000, criterion='entropy', random_state=GLOBAL_RND_MODEL+rnd_seed),\n",
    "                                X=X0,\n",
    "                                y=y0,\n",
    "                                validData=X0_valid,\n",
    "                                testData=X0_test,\n",
    "                                preTrans=sfm_rf_concat_0, \n",
    "                                nFolds=GLOBAL_NFOLD, randomState=GLOBAL_RANDOM_CV, needScores=True)\n",
    "\n",
    "    ys0_ = clf0.predict_proba(sfm_rf_concat_0.transform(X0_sub))\n",
    "\n",
    "    print log_loss(np.append(y0_valid, y1_valid), np.append(yv0_[:,1], yv1_[:,1]))\n",
    "    print log_loss(np.append(y0_test, y1_test), np.append(yt0_[:,1], yt1_[:,1]))\n",
    "\n",
    "\n",
    "    X0_sub['y'] = ys0_[:, 1]\n",
    "    X1_sub['y'] = ys1_[:, 1]\n",
    "    X0_test['y'] = yt0_[:, 1]\n",
    "    X1_test['y'] = yt1_[:, 1]\n",
    "    X0_valid['y'] = yv0_[:, 1]\n",
    "    X1_valid['y'] = yv1_[:, 1]\n",
    "    X0['y'] = y0_\n",
    "    X1['y'] = y1_\n",
    "    \n",
    "    rnd_seed = rnd_seed + 100132\n",
    "\n",
    "\n",
    "    featureX_train['Split' + col] = pd.concat([X0, X1], axis=0)['y']\n",
    "    featureX_sub['Split' + col] = pd.concat([X0_sub, X1_sub], axis=0)['y']\n",
    "    featureX_valid['Split' + col] = pd.concat([X0_valid, X1_valid], axis=0)['y']\n",
    "    featureX_test['Split' + col] = pd.concat([X0_test, X1_test], axis=0)['y']"
   ]
  },
  {
   "cell_type": "markdown",
   "metadata": {},
   "source": [
    "## Imputer\n",
    "Baseline решение"
   ]
  },
  {
   "cell_type": "code",
   "execution_count": null,
   "metadata": {
    "collapsed": true
   },
   "outputs": [],
   "source": [
    "X_train_imputer = X_train.copy()\n",
    "X_test_imputer = X_test.copy()\n",
    "X_valid_imputer = X_valid.copy()\n",
    "X_sub_imputer = X_sub.copy()"
   ]
  },
  {
   "cell_type": "code",
   "execution_count": null,
   "metadata": {
    "collapsed": false
   },
   "outputs": [],
   "source": [
    "X_train_imputer.replace(-9999, np.NAN, inplace=True)\n",
    "X_test_imputer.replace(-9999, np.NAN, inplace=True)\n",
    "X_sub_imputer.replace(-9999, np.NAN, inplace=True)\n",
    "X_valid_imputer.replace(-9999, np.NAN, inplace=True)"
   ]
  },
  {
   "cell_type": "code",
   "execution_count": null,
   "metadata": {
    "collapsed": false
   },
   "outputs": [],
   "source": [
    "imp = Imputer(missing_values = 'NaN', strategy = 'most_frequent', axis = 0)\n",
    "imp.fit(X_train_imputer)\n",
    "\n",
    "X_train_imputer = pd.DataFrame(imp.transform(X_train_imputer), index=X_train_imputer.index)\n",
    "X_test_imputer = pd.DataFrame(imp.transform(X_test_imputer), index=X_test_imputer.index)\n",
    "X_valid_imputer = pd.DataFrame(imp.transform(X_valid_imputer), index=X_valid_imputer.index)\n",
    "X_sub_imputer = pd.DataFrame(imp.transform(X_sub_imputer), index=X_sub_imputer.index)"
   ]
  },
  {
   "cell_type": "code",
   "execution_count": null,
   "metadata": {
    "collapsed": false
   },
   "outputs": [],
   "source": [
    "X_train_imputer.head()"
   ]
  },
  {
   "cell_type": "code",
   "execution_count": null,
   "metadata": {
    "collapsed": false
   },
   "outputs": [],
   "source": [
    "sfm_rf_imputer = SelectFromModel(RFC(n_estimators=750,\n",
    "                                    criterion='entropy', random_state=GLOBAL_RND_SELECT_MODEL))\n",
    "sfm_rf_imputer.fit(X_train_imputer, y_train)\n",
    "y_, yv_, yt_, clf, sc_ = getCVModel_fit_transform(\n",
    "                            ETC(n_estimators=2000, criterion='entropy', random_state=GLOBAL_RND_MODEL),\n",
    "                            X=X_train_imputer,\n",
    "                            y=y_train,\n",
    "                            validData=X_valid_imputer,\n",
    "                            testData=X_test_imputer,\n",
    "                            preTrans=sfm_rf_imputer, \n",
    "                            nFolds=GLOBAL_NFOLD, randomState=GLOBAL_RANDOM_CV, needScores=True)\n",
    "\n",
    "\n",
    "print sc_\n",
    "print log_loss(y_valid, yv_)\n",
    "print log_loss(y_test, yt_)\n",
    "\n",
    "featureX_train['ImputerMost'] = y_\n",
    "featureX_test['ImputerMost'] = yt_[:, 1]\n",
    "featureX_valid['ImputerMost'] = yv_[:, 1]\n",
    "featureX_sub['ImputerMost'] = clf.predict_proba(sfm_rf_imputer.transform(X_sub_imputer))[:, 1]"
   ]
  },
  {
   "cell_type": "markdown",
   "metadata": {},
   "source": [
    "# Итого\n",
    "Добавляем результаты всех вышеприведенных моделей к начальным данным. Из-за какого-то бага в данные train 'SplitV...' попали NA значения. Разбираться почему так вышло не было времени, поэтому решил выкинуть из обучения.\n",
    "\n",
    "Обучил 4 модели как в самом начале:\n",
    "1. RandomForest 'важные' признаки выбираются RandomForest\n",
    "2. RandomForest 'важные' признаки выбираются ExtraTreesClassifier\n",
    "3. ExtraTreesClassifier 'важные' признаки выбираются RandomForest\n",
    "4. ExtraTreesClassifier 'важные' признаки выбираются ExtraTreesClassifier\n",
    "\n",
    "Выход усредняю."
   ]
  },
  {
   "cell_type": "code",
   "execution_count": null,
   "metadata": {
    "collapsed": false
   },
   "outputs": [],
   "source": [
    "%%time\n",
    "X_train_ = pd.concat([X_train, featureX_train], axis=1).drop(['SplitV41','SplitV91','SplitV95', 'SplitV120', \n",
    "                                                              'SplitV115', 'SplitV181', 'SplitV103', 'SplitV4',\n",
    "                                                              'SplitV42', 'SplitV8'], axis=1)\n",
    "X_sub_ = pd.concat([X_sub, featureX_sub], axis=1).drop(['SplitV41','SplitV91','SplitV95', 'SplitV120', \n",
    "                                                              'SplitV115', 'SplitV181', 'SplitV103', 'SplitV4',\n",
    "                                                              'SplitV42', 'SplitV8'], axis=1)\n",
    "X_test_ = pd.concat([X_test, featureX_test], axis=1).drop(['SplitV41','SplitV91','SplitV95', 'SplitV120', \n",
    "                                                              'SplitV115', 'SplitV181', 'SplitV103', 'SplitV4',\n",
    "                                                              'SplitV42', 'SplitV8'], axis=1)\n",
    "X_valid_ = pd.concat([X_valid, featureX_valid], axis=1).drop(['SplitV41','SplitV91','SplitV95', 'SplitV120', \n",
    "                                                              'SplitV115', 'SplitV181', 'SplitV103', 'SplitV4',\n",
    "                                                              'SplitV42', 'SplitV8'], axis=1)\n",
    "\n",
    "# RFC-RFC\n",
    "sCount = SelectFromModel(RFC(n_estimators=800, criterion='entropy', random_state=GLOBAL_RND_SELECT_MODEL))\n",
    "sCount.fit(X_train_, y_train)\n",
    "rfCount = RFC(n_estimators=25000, criterion='entropy', random_state=GLOBAL_RND_MODEL)\n",
    "rfCount.fit(sCount.transform(X_train_), y_train)\n",
    "\n",
    "print log_loss(y_test, rfCount.predict_proba(sCount.transform(X_test_)))\n",
    "print log_loss(y_valid, rfCount.predict_proba(sCount.transform(X_valid_)))\n",
    "\n",
    "# RFC-ETC\n",
    "sCount1 = SelectFromModel(RFC(n_estimators=800, criterion='entropy', random_state=GLOBAL_RND_SELECT_MODEL))\n",
    "sCount1.fit(X_train_, y_train)\n",
    "rfCount1 = ETC(n_estimators=25000, criterion='entropy', random_state=GLOBAL_RND_MODEL)\n",
    "rfCount1.fit(sCount1.transform(X_train_), y_train)\n",
    "\n",
    "print log_loss(y_test, rfCount1.predict_proba(sCount1.transform(X_test_)))\n",
    "print log_loss(y_valid, rfCount1.predict_proba(sCount1.transform(X_valid_)))\n",
    "\n",
    "# ETC-RFC\n",
    "sCount2 = SelectFromModel(ETC(n_estimators=800, criterion='entropy', random_state=GLOBAL_RND_SELECT_MODEL))\n",
    "sCount2.fit(X_train_, y_train)\n",
    "rfCount2 = RFC(n_estimators=25000, criterion='entropy', random_state=GLOBAL_RND_MODEL)\n",
    "rfCount2.fit(sCount2.transform(X_train_), y_train)\n",
    "\n",
    "print log_loss(y_test, rfCount2.predict_proba(sCount2.transform(X_test_)))\n",
    "print log_loss(y_valid, rfCount2.predict_proba(sCount2.transform(X_valid_)))\n",
    "\n",
    "# ETC-ETC\n",
    "sCount3 = SelectFromModel(ETC(n_estimators=800, criterion='entropy', random_state=GLOBAL_RND_SELECT_MODEL))\n",
    "sCount3.fit(X_train_, y_train);\n",
    "rfCount3 = ETC(n_estimators=25000, criterion='entropy', random_state=GLOBAL_RND_MODEL)\n",
    "rfCount3.fit(sCount3.transform(X_train_), y_train)\n",
    "\n",
    "print log_loss(y_test, rfCount3.predict_proba(sCount3.transform(X_test_)))\n",
    "print log_loss(y_valid, rfCount3.predict_proba(sCount3.transform(X_valid_)))\n",
    "\n",
    "\n",
    "# MEAN SCORE\n",
    "YTEST_ = rfCount.predict_proba(sCount.transform(X_test_)) + \\\n",
    "               rfCount1.predict_proba(sCount1.transform(X_test_)) + \\\n",
    "               rfCount2.predict_proba(sCount2.transform(X_test_)) + \\\n",
    "               rfCount3.predict_proba(sCount3.transform(X_test_))\n",
    "YTEST_ = YTEST_ / 4\n",
    "print log_loss(y_test, YTEST_)\n",
    "\n",
    "\n",
    "YVALID_ = rfCount.predict_proba(sCount.transform(X_valid_)) + \\\n",
    "               rfCount1.predict_proba(sCount1.transform(X_valid_)) + \\\n",
    "               rfCount2.predict_proba(sCount2.transform(X_valid_)) + \\\n",
    "               rfCount3.predict_proba(sCount3.transform(X_valid_))\n",
    "YVALID_ = YVALID_ / 4           \n",
    "print log_loss(y_valid, YVALID_)\n",
    "\n",
    " \n",
    "YSUBPRED_ = rfCount.predict_proba(sCount.transform(X_sub_)) + \\\n",
    "               rfCount1.predict_proba(sCount1.transform(X_sub_)) + \\\n",
    "               rfCount2.predict_proba(sCount2.transform(X_sub_)) + \\\n",
    "               rfCount3.predict_proba(sCount3.transform(X_sub_))\n",
    "YSUBPRED_ = YSUBPRED_ / 4          \n",
    "\n",
    "dfRES = pd.DataFrame()\n",
    "dfRES['Id'] = np.arange(len(YSUBPRED_))\n",
    "dfRES['Prediction'] = YSUBPRED_[:, 1]\n",
    "\n",
    "# Неожиданно, но получился даже тот же результат\n",
    "dfRES.to_csv('y.predicted_26_all_data_verify.csv', index = False)"
   ]
  },
  {
   "cell_type": "markdown",
   "metadata": {},
   "source": [
    "# Что еще\n",
    "Проанализировав решение, я понял, что часто ошибаюсь на единицах, и поэтому решил построить модель, которая предсказывала бы на сколько сильно ошибается моя итоговая модель. Т.е. я бы получил YPRED и ERROR_PROBABILITY. Чем больше ERROR_PROBABILITY, тем больше мне надо модифичировать ответ YPRED в противоположную сторону.\n",
    "\n",
    "Приведу код из другого IPython notebooka - код не выполнится, но идея станет немного ясней"
   ]
  },
  {
   "cell_type": "code",
   "execution_count": null,
   "metadata": {
    "collapsed": true
   },
   "outputs": [],
   "source": [
    "# Получаю ошибку\n",
    "Y_TRAIN = featureX_train.ix[:, 0:15].mean(axis=1)\n",
    "YT_ = (Y_TRAIN - y_train)\n",
    "YT_ERROR_ = np.array((YT_ > 0.3) | (YT_ < -.6), dtype=int)\n",
    "\n",
    "Y_TEST = featureX_test.ix[:, 0:15].mean(axis=1)\n",
    "YX_ = (Y_TEST - y_test)\n",
    "YX_ERROR_ = np.array((YX_ > 0.3) | (YX_ < -.6), dtype=int)\n",
    "\n",
    "Y_VALID = featureX_valid.ix[:, 0:15].mean(axis=1)\n",
    "YV_ = (Y_VALID - y_valid)\n",
    "YV_ERROR_ = np.array((YV_ > 0.3) | (YV_ < -.6), dtype=int)\n",
    "\n",
    "X_train_error = pd.concat([X_train, featureX_train.ix[:, 0:15]], axis=1)\n",
    "X_test_error = pd.concat([X_test, featureX_test.ix[:, 0:15]], axis=1)\n",
    "X_valid_error = pd.concat([X_valid, featureX_valid.ix[:, 0:15]], axis=1)\n",
    "X_sub_error = pd.concat([X_sub, featureX_sub.ix[:, 0:15]], axis=1)\n",
    "\n",
    "\n",
    "# Обучаюсь\n",
    "sfm_rf_error = SelectFromModel(RFC(n_estimators=650,\n",
    "                                    criterion='entropy', random_state=GLOBAL_RND_SELECT_MODEL))\n",
    "sfm_rf_error.fit(X_train_error, YT_ERROR_)\n",
    "y_, yv_, yt_, clf, sc_ = getCVModel_fit_transform(\n",
    "                            RFC(n_estimators=2000, criterion='entropy', random_state=GLOBAL_RND_MODEL),\n",
    "                            X=X_train_error,\n",
    "                            y=YT_ERROR_,\n",
    "                            validData=X_valid_error,\n",
    "                            testData=X_test_error,\n",
    "                            preTrans=sfm_rf_error, \n",
    "                            nFolds=GLOBAL_NFOLD, randomState=GLOBAL_RANDOM_CV, needScores=True)"
   ]
  },
  {
   "cell_type": "code",
   "execution_count": null,
   "metadata": {
    "collapsed": true
   },
   "outputs": [],
   "source": [
    "dfRES = pd.DataFrame()\n",
    "dfRES['Id'] = np.arange(len(YSUBPRED_))\n",
    "e = (1-error*(error>0.4))\n",
    "yyyy = YSUBPRED_[:, 1]"
   ]
  },
  {
   "cell_type": "markdown",
   "metadata": {},
   "source": [
    "а тут модифицирую ответ с помощью подели ошибок. Почему выбранны такие пороговые значения? Во-первых, метод вглядывания. Всматриваясь в графики test, valid, train я выбрал такие значения Во-вторых, все эти пороги надо было програть на Cross Validation и получить оптимальные, но не успел и не верил, что это сработает. А в test и valid была выборка около 200 элементов, которая не предоставила бы адекватный результат. Не хватило, что называется, одного дня :)\n",
    "Эта модель показала результат в public-score 0.23107 против 0.22992 чистого результата без использования error. А на private-score получилось наоборот: подель с модификацией показала 0.21149 против 0.21230."
   ]
  },
  {
   "cell_type": "code",
   "execution_count": null,
   "metadata": {
    "collapsed": true
   },
   "outputs": [],
   "source": [
    "ytyt =  yyyy*(yyyy < 0.4)*(error >= 0.4)*1.3 + yyyy*(yyyy > 0.4)*(error >= 0.4)*.7 + yyyy*(error < 0.4)\n",
    "dfRES['Prediction'] = ytyt#YSUBPRED_[:, 1] * )\n",
    "dfRES.to_csv('y.predicted_29.csv', index = False)\n",
    "plot(dfRES['Prediction'])"
   ]
  }
 ],
 "metadata": {
  "kernelspec": {
   "display_name": "Python 2",
   "language": "python",
   "name": "python2"
  },
  "language_info": {
   "codemirror_mode": {
    "name": "ipython",
    "version": 2
   },
   "file_extension": ".py",
   "mimetype": "text/x-python",
   "name": "python",
   "nbconvert_exporter": "python",
   "pygments_lexer": "ipython2",
   "version": "2.7.11"
  }
 },
 "nbformat": 4,
 "nbformat_minor": 0
}
