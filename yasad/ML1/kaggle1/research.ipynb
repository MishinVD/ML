{
 "cells": [
  {
   "cell_type": "code",
   "execution_count": 190,
   "metadata": {
    "collapsed": false
   },
   "outputs": [
    {
     "name": "stdout",
     "output_type": "stream",
     "text": [
      "Populating the interactive namespace from numpy and matplotlib\n"
     ]
    },
    {
     "name": "stderr",
     "output_type": "stream",
     "text": [
      "WARNING: pylab import has clobbered these variables: ['f', 'datetime', 'clf']\n",
      "`%matplotlib` prevents importing * from pylab and numpy\n"
     ]
    }
   ],
   "source": [
    "%pylab inline"
   ]
  },
  {
   "cell_type": "code",
   "execution_count": 25,
   "metadata": {
    "collapsed": true
   },
   "outputs": [],
   "source": [
    "def read_X(filename):\n",
    "    X = list()\n",
    "    with open(filename) as f:\n",
    "        while True:\n",
    "            line = f.readline()\n",
    "            if not line:\n",
    "                break\n",
    "            amplitudes = [int(x) for x in line.strip().split(',')]\n",
    "            intervals = [int(x) for x in f.readline().strip().split(',')]\n",
    "            \n",
    "            f.readline() # skip an empty line\n",
    "            X.append((amplitudes, intervals))\n",
    "    return X"
   ]
  },
  {
   "cell_type": "code",
   "execution_count": 26,
   "metadata": {
    "collapsed": false
   },
   "outputs": [
    {
     "name": "stdout",
     "output_type": "stream",
     "text": [
      "900 903\n"
     ]
    }
   ],
   "source": [
    "X_train_ecg = read_X('X.train.csv')\n",
    "X_test_ecg = read_X('X.test.csv')\n",
    "print len(X_train_ecg), len(X_test_ecg)"
   ]
  },
  {
   "cell_type": "code",
   "execution_count": 27,
   "metadata": {
    "collapsed": false
   },
   "outputs": [
    {
     "name": "stdout",
     "output_type": "stream",
     "text": [
      "900\n"
     ]
    }
   ],
   "source": [
    "y_train = list()\n",
    "for line in open('y.train.csv'):\n",
    "    y_train.append(int(line))\n",
    "print len(y_train)"
   ]
  },
  {
   "cell_type": "code",
   "execution_count": 28,
   "metadata": {
    "collapsed": true
   },
   "outputs": [],
   "source": [
    "def discretize(X):\n",
    "    discrete = list()\n",
    "    for amps, ints in X:\n",
    "        amps = array(amps).astype(float)\n",
    "        ints = array(ints).astype(float)\n",
    "        alphas = arctan(amps / ints)\n",
    "\n",
    "        amps = diff(amps)\n",
    "        ints = diff(ints)\n",
    "        alphas = diff(alphas)\n",
    "\n",
    "        s = list()\n",
    "        for ind, r, t, a in zip(range(600), amps, ints, alphas):\n",
    "            c = 'x'\n",
    "            if r > 0 and t > 0 and a > 0:\n",
    "                c = 'a'\n",
    "            if r <= 0 and t <= 0 and a > 0:\n",
    "                c = 'b'\n",
    "            if r > 0 and t <= 0 and a > 0:\n",
    "                c = 'c'\n",
    "            if r <= 0 and t > 0 and a <= 0:\n",
    "                c = 'd'\n",
    "            if r > 0 and t > 0 and a <= 0:\n",
    "                c = 'e'\n",
    "            if r <= 0 and t <= 0 and a <= 0:\n",
    "                c = 'f'\n",
    "            if c == 'x':\n",
    "                print 'Very strange!!!', ind, r, t, a\n",
    "            s.append(c)\n",
    "\n",
    "        discrete.append(s)\n",
    "    return discrete"
   ]
  },
  {
   "cell_type": "code",
   "execution_count": 29,
   "metadata": {
    "collapsed": false
   },
   "outputs": [
    {
     "name": "stdout",
     "output_type": "stream",
     "text": [
      "900 903\n"
     ]
    }
   ],
   "source": [
    "X_train_discrete = discretize(X_train_ecg)\n",
    "X_test_discrete = discretize(X_test_ecg)\n",
    "print len(X_train_discrete), len(X_test_discrete)"
   ]
  },
  {
   "cell_type": "code",
   "execution_count": 30,
   "metadata": {
    "collapsed": true
   },
   "outputs": [],
   "source": [
    "from collections import defaultdict\n",
    "from itertools import product\n",
    "\n",
    "def vectorize(discrete):\n",
    "    vectorized = list()\n",
    "    for element in discrete:\n",
    "        current = defaultdict(int)\n",
    "        for j in range(597):\n",
    "            current[tuple(element[j:j+3])] += 1\n",
    "\n",
    "        vect = list()\n",
    "        for a, b, c in product('abcdef', 'abcdef', 'abcdef'):\n",
    "            vect.append(current[(a, b, c)])\n",
    "        vectorized.append(vect)\n",
    "    return array(vectorized).astype(float)"
   ]
  },
  {
   "cell_type": "code",
   "execution_count": 31,
   "metadata": {
    "collapsed": false
   },
   "outputs": [
    {
     "name": "stdout",
     "output_type": "stream",
     "text": [
      "(900, 216) (903, 216)\n"
     ]
    }
   ],
   "source": [
    "X_train = vectorize(X_train_discrete)\n",
    "X_test = vectorize(X_test_discrete)\n",
    "print X_train.shape, X_test.shape"
   ]
  },
  {
   "cell_type": "code",
   "execution_count": 2,
   "metadata": {
    "collapsed": true
   },
   "outputs": [],
   "source": [
    "import pandas as pd\n",
    "from sklearn.cross_validation import train_test_split"
   ]
  },
  {
   "cell_type": "code",
   "execution_count": 33,
   "metadata": {
    "collapsed": false
   },
   "outputs": [],
   "source": [
    "dt_train = pd.DataFrame(X_train)\n",
    "dt_test = pd.DataFrame(X_test)"
   ]
  },
  {
   "cell_type": "code",
   "execution_count": 34,
   "metadata": {
    "collapsed": true
   },
   "outputs": [],
   "source": [
    "dt_train.to_csv('X_train_vectorize.csv')\n",
    "dt_test.to_csv('X_test_vectorize.csv')"
   ]
  },
  {
   "cell_type": "code",
   "execution_count": 35,
   "metadata": {
    "collapsed": false
   },
   "outputs": [],
   "source": [
    "X_train, X_test, y_train, y_test = train_test_split(dt_train, y_train, test_size=0.3, random_state=42)\n",
    "X_test, X_valid, y_test, y_valid  = train_test_split(X_test, y_test, test_size=0.5, random_state=42)"
   ]
  },
  {
   "cell_type": "code",
   "execution_count": 40,
   "metadata": {
    "collapsed": false
   },
   "outputs": [],
   "source": [
    "X_train.to_csv('./data/X_train.csv')\n",
    "X_test.to_csv('./data/X_test.csv')\n",
    "X_valid.to_csv('./data/X_valid.csv')\n",
    "pd.DataFrame(y_train).to_csv('./data/y_train.csv', index=False)\n",
    "pd.DataFrame(y_test).to_csv('./data/y_test.csv', index=False)\n",
    "pd.DataFrame(y_valid).to_csv('./data/y_valid.csv', index=False)"
   ]
  },
  {
   "cell_type": "markdown",
   "metadata": {},
   "source": [
    "#### Загружаем данные"
   ]
  },
  {
   "cell_type": "code",
   "execution_count": 192,
   "metadata": {
    "collapsed": false
   },
   "outputs": [],
   "source": [
    "X_train = pd.read_csv('./data/X_train.csv')\n",
    "X_test = pd.read_csv('./data/X_test.csv')\n",
    "X_valid = pd.read_csv('./data/X_valid.csv')\n",
    "y_train = pd.read_csv('./data/y_train.csv')\n",
    "y_test = pd.read_csv('./data/y_test.csv')\n",
    "y_valid = pd.read_csv('./data/y_valid.csv')\n",
    "\n",
    "X_train.drop('Unnamed: 0', axis=1, inplace=True)\n",
    "X_valid.drop('Unnamed: 0', axis=1, inplace=True)\n",
    "X_test.drop('Unnamed: 0', axis=1, inplace=True)\n",
    "\n",
    "X_sub = pd.read_csv('X_test_vectorize.csv')\n",
    "X_sub.drop('Unnamed: 0', axis=1, inplace=True)"
   ]
  },
  {
   "cell_type": "markdown",
   "metadata": {},
   "source": [
    "#### Исследования\n",
    "получили данные. теперь смотрим что можно выжать из них"
   ]
  },
  {
   "cell_type": "code",
   "execution_count": 103,
   "metadata": {
    "collapsed": true
   },
   "outputs": [],
   "source": [
    "import seaborn as sns\n",
    "from datetime import datetime"
   ]
  },
  {
   "cell_type": "code",
   "execution_count": 21,
   "metadata": {
    "collapsed": false
   },
   "outputs": [],
   "source": [
    "from sklearn.grid_search import GridSearchCV\n",
    "from sklearn.neighbors import KNeighborsClassifier as KNN\n",
    "from sklearn.metrics import roc_auc_score\n",
    "from sklearn import preprocessing\n",
    "from sklearn.ensemble import RandomForestClassifier as RFC\n",
    "from sklearn.linear_model import LogisticRegression as SAG\n",
    "from sklearn.preprocessing import PolynomialFeatures"
   ]
  },
  {
   "cell_type": "code",
   "execution_count": 8,
   "metadata": {
    "collapsed": true
   },
   "outputs": [],
   "source": [
    "def plot_quality(grid_searcher, param_name):\n",
    "    means = []\n",
    "    stds = []\n",
    "    for elem in grid_searcher.grid_scores_:\n",
    "        means.append(mean(elem.cv_validation_scores))\n",
    "        stds.append(sqrt(var(elem.cv_validation_scores)))\n",
    "    means = array(means)\n",
    "    stds = array(stds)\n",
    "    \n",
    "    params = grid_searcher.param_grid\n",
    "    \n",
    "    figure(figsize=(8, 6))\n",
    "    plot(params[param_name], means)\n",
    "    fill_between(params[param_name], \\\n",
    "                 means + stds, means - stds, alpha = 0.3, facecolor='blue')\n",
    "    xlabel(param_name)\n",
    "    ylabel('AUC')"
   ]
  },
  {
   "cell_type": "code",
   "execution_count": 75,
   "metadata": {
    "collapsed": false
   },
   "outputs": [],
   "source": [
    "# scaler = preprocessing.StandardScaler().fit(X_train.drop('y', axis=1))\n",
    "minmax = preprocessing.MinMaxScaler().fit(X_train)\n",
    "X = pd.DataFrame(minmax.transform(X_train))"
   ]
  },
  {
   "cell_type": "code",
   "execution_count": 76,
   "metadata": {
    "collapsed": false
   },
   "outputs": [],
   "source": [
    "X.rename(columns=lambda x: 'f' + str(x), inplace=True)"
   ]
  },
  {
   "cell_type": "code",
   "execution_count": 77,
   "metadata": {
    "collapsed": false
   },
   "outputs": [
    {
     "data": {
      "text/html": [
       "<div>\n",
       "<table border=\"1\" class=\"dataframe\">\n",
       "  <thead>\n",
       "    <tr style=\"text-align: right;\">\n",
       "      <th></th>\n",
       "      <th>f0</th>\n",
       "      <th>f1</th>\n",
       "      <th>f2</th>\n",
       "      <th>f3</th>\n",
       "      <th>f4</th>\n",
       "      <th>f5</th>\n",
       "      <th>f6</th>\n",
       "      <th>f7</th>\n",
       "      <th>f8</th>\n",
       "      <th>f9</th>\n",
       "      <th>...</th>\n",
       "      <th>f206</th>\n",
       "      <th>f207</th>\n",
       "      <th>f208</th>\n",
       "      <th>f209</th>\n",
       "      <th>f210</th>\n",
       "      <th>f211</th>\n",
       "      <th>f212</th>\n",
       "      <th>f213</th>\n",
       "      <th>f214</th>\n",
       "      <th>f215</th>\n",
       "    </tr>\n",
       "  </thead>\n",
       "  <tbody>\n",
       "    <tr>\n",
       "      <th>0</th>\n",
       "      <td>0.000000</td>\n",
       "      <td>0.000000</td>\n",
       "      <td>0.000000</td>\n",
       "      <td>0.000</td>\n",
       "      <td>0.000000</td>\n",
       "      <td>0.058824</td>\n",
       "      <td>0.000000</td>\n",
       "      <td>0.000000</td>\n",
       "      <td>0.000000</td>\n",
       "      <td>0.000000</td>\n",
       "      <td>...</td>\n",
       "      <td>0.00</td>\n",
       "      <td>0.000000</td>\n",
       "      <td>0.000000</td>\n",
       "      <td>0</td>\n",
       "      <td>0.022222</td>\n",
       "      <td>0.000000</td>\n",
       "      <td>0.187500</td>\n",
       "      <td>0</td>\n",
       "      <td>0</td>\n",
       "      <td>0.000000</td>\n",
       "    </tr>\n",
       "    <tr>\n",
       "      <th>1</th>\n",
       "      <td>0.000000</td>\n",
       "      <td>0.000000</td>\n",
       "      <td>0.026316</td>\n",
       "      <td>0.025</td>\n",
       "      <td>0.000000</td>\n",
       "      <td>0.000000</td>\n",
       "      <td>0.571429</td>\n",
       "      <td>0.000000</td>\n",
       "      <td>0.272727</td>\n",
       "      <td>0.000000</td>\n",
       "      <td>...</td>\n",
       "      <td>0.00</td>\n",
       "      <td>0.000000</td>\n",
       "      <td>0.000000</td>\n",
       "      <td>0</td>\n",
       "      <td>0.000000</td>\n",
       "      <td>0.000000</td>\n",
       "      <td>0.000000</td>\n",
       "      <td>0</td>\n",
       "      <td>0</td>\n",
       "      <td>0.000000</td>\n",
       "    </tr>\n",
       "    <tr>\n",
       "      <th>2</th>\n",
       "      <td>0.340426</td>\n",
       "      <td>0.181818</td>\n",
       "      <td>0.552632</td>\n",
       "      <td>0.050</td>\n",
       "      <td>0.030303</td>\n",
       "      <td>0.411765</td>\n",
       "      <td>0.142857</td>\n",
       "      <td>0.000000</td>\n",
       "      <td>0.090909</td>\n",
       "      <td>0.041667</td>\n",
       "      <td>...</td>\n",
       "      <td>0.20</td>\n",
       "      <td>0.000000</td>\n",
       "      <td>0.210526</td>\n",
       "      <td>0</td>\n",
       "      <td>0.066667</td>\n",
       "      <td>0.000000</td>\n",
       "      <td>0.041667</td>\n",
       "      <td>0</td>\n",
       "      <td>0</td>\n",
       "      <td>0.000000</td>\n",
       "    </tr>\n",
       "    <tr>\n",
       "      <th>3</th>\n",
       "      <td>0.021277</td>\n",
       "      <td>0.090909</td>\n",
       "      <td>0.052632</td>\n",
       "      <td>0.050</td>\n",
       "      <td>0.000000</td>\n",
       "      <td>0.011765</td>\n",
       "      <td>0.000000</td>\n",
       "      <td>0.000000</td>\n",
       "      <td>0.000000</td>\n",
       "      <td>0.125000</td>\n",
       "      <td>...</td>\n",
       "      <td>0.04</td>\n",
       "      <td>0.181818</td>\n",
       "      <td>0.000000</td>\n",
       "      <td>0</td>\n",
       "      <td>0.011111</td>\n",
       "      <td>0.090909</td>\n",
       "      <td>0.145833</td>\n",
       "      <td>0</td>\n",
       "      <td>0</td>\n",
       "      <td>0.000000</td>\n",
       "    </tr>\n",
       "    <tr>\n",
       "      <th>4</th>\n",
       "      <td>0.000000</td>\n",
       "      <td>0.000000</td>\n",
       "      <td>0.000000</td>\n",
       "      <td>0.025</td>\n",
       "      <td>0.000000</td>\n",
       "      <td>0.000000</td>\n",
       "      <td>0.000000</td>\n",
       "      <td>0.083333</td>\n",
       "      <td>0.000000</td>\n",
       "      <td>0.000000</td>\n",
       "      <td>...</td>\n",
       "      <td>0.00</td>\n",
       "      <td>0.000000</td>\n",
       "      <td>0.000000</td>\n",
       "      <td>0</td>\n",
       "      <td>0.000000</td>\n",
       "      <td>0.000000</td>\n",
       "      <td>0.062500</td>\n",
       "      <td>0</td>\n",
       "      <td>0</td>\n",
       "      <td>0.022727</td>\n",
       "    </tr>\n",
       "  </tbody>\n",
       "</table>\n",
       "<p>5 rows × 216 columns</p>\n",
       "</div>"
      ],
      "text/plain": [
       "         f0        f1        f2     f3        f4        f5        f6  \\\n",
       "0  0.000000  0.000000  0.000000  0.000  0.000000  0.058824  0.000000   \n",
       "1  0.000000  0.000000  0.026316  0.025  0.000000  0.000000  0.571429   \n",
       "2  0.340426  0.181818  0.552632  0.050  0.030303  0.411765  0.142857   \n",
       "3  0.021277  0.090909  0.052632  0.050  0.000000  0.011765  0.000000   \n",
       "4  0.000000  0.000000  0.000000  0.025  0.000000  0.000000  0.000000   \n",
       "\n",
       "         f7        f8        f9    ...     f206      f207      f208  f209  \\\n",
       "0  0.000000  0.000000  0.000000    ...     0.00  0.000000  0.000000     0   \n",
       "1  0.000000  0.272727  0.000000    ...     0.00  0.000000  0.000000     0   \n",
       "2  0.000000  0.090909  0.041667    ...     0.20  0.000000  0.210526     0   \n",
       "3  0.000000  0.000000  0.125000    ...     0.04  0.181818  0.000000     0   \n",
       "4  0.083333  0.000000  0.000000    ...     0.00  0.000000  0.000000     0   \n",
       "\n",
       "       f210      f211      f212  f213  f214      f215  \n",
       "0  0.022222  0.000000  0.187500     0     0  0.000000  \n",
       "1  0.000000  0.000000  0.000000     0     0  0.000000  \n",
       "2  0.066667  0.000000  0.041667     0     0  0.000000  \n",
       "3  0.011111  0.090909  0.145833     0     0  0.000000  \n",
       "4  0.000000  0.000000  0.062500     0     0  0.022727  \n",
       "\n",
       "[5 rows x 216 columns]"
      ]
     },
     "execution_count": 77,
     "metadata": {},
     "output_type": "execute_result"
    }
   ],
   "source": [
    "X.head()\n",
    "# print X.shape, y_train.shape"
   ]
  },
  {
   "cell_type": "code",
   "execution_count": 40,
   "metadata": {
    "collapsed": false
   },
   "outputs": [
    {
     "name": "stdout",
     "output_type": "stream",
     "text": [
      "0.957314880526\n",
      "KNeighborsClassifier(algorithm='auto', leaf_size=30, metric='minkowski',\n",
      "           metric_params=None, n_jobs=1, n_neighbors=26, p=2,\n",
      "           weights='uniform')\n"
     ]
    }
   ],
   "source": [
    "params = {'n_neighbors': arange(1, 200, 5)}\n",
    "grid_searcher = GridSearchCV(KNN(),\n",
    "                             params, cv=5, scoring='roc_auc', n_jobs=3)\n",
    "grid_searcher.fit(X, y_train.ix[:, 0])\n",
    "\n",
    "print grid_searcher.best_score_\n",
    "print grid_searcher.best_estimator_"
   ]
  },
  {
   "cell_type": "markdown",
   "metadata": {},
   "source": [
    "#### выкидываем одну переменную для улучшения score"
   ]
  },
  {
   "cell_type": "code",
   "execution_count": 65,
   "metadata": {
    "collapsed": false
   },
   "outputs": [],
   "source": [
    "params = {'n_neighbors': arange(1, 40, 5)}\n",
    "\n",
    "best_score = 0.957314880526\n",
    "noise = []\n",
    "index_noise = -1\n",
    "estimators = []\n",
    "for i in range(0, 216):\n",
    "    grid_searcher_drop_noise = GridSearchCV(KNN(),\n",
    "                             params, cv=5, scoring='roc_auc', n_jobs=3)\n",
    "    grid_searcher_drop_noise.fit(X.drop('f' + str(i), axis=1),\n",
    "                                 y_train.ix[:, 0])\n",
    "    if (best_score < grid_searcher_drop_noise.best_score_):\n",
    "        best_score = grid_searcher_drop_noise.best_score_\n",
    "        noise.append(i)\n",
    "        index_noise = i\n",
    "        estimators.append(grid_searcher_drop_noise)"
   ]
  },
  {
   "cell_type": "markdown",
   "metadata": {},
   "source": [
    "#### Долго и нудно выбрасываем всё по одной пока не станет хорошо"
   ]
  },
  {
   "cell_type": "code",
   "execution_count": 110,
   "metadata": {
    "collapsed": true
   },
   "outputs": [],
   "source": [
    "myX = X.copy()"
   ]
  },
  {
   "cell_type": "code",
   "execution_count": 111,
   "metadata": {
    "collapsed": false
   },
   "outputs": [
    {
     "name": "stdout",
     "output_type": "stream",
     "text": [
      "2016-03-13 00:41:40.901905 0.957314880526 []\n",
      "2016-03-13 00:44:42.398662 0.959835596933 [158]\n",
      "2016-03-13 00:47:41.283405 0.960768607712 [158, 19]\n",
      "2016-03-13 00:50:37.568848 0.961283247937 [158, 19, 123]\n",
      "2016-03-13 00:53:33.573794 0.961828154273 [158, 19, 123, 97]\n",
      "2016-03-13 00:56:32.036592 0.962038772502 [158, 19, 123, 97, 54]\n",
      "2016-03-13 00:59:39.385800 0.962403732059 [158, 19, 123, 97, 54, 90]\n",
      "2016-03-13 01:02:38.267156 0.962495138401 [158, 19, 123, 97, 54, 90, 43]\n",
      "2016-03-13 01:05:32.422075 0.962708014526 [158, 19, 123, 97, 54, 90, 43, 210]\n",
      "2016-03-13 01:08:28.229401 0.962863745274 [158, 19, 123, 97, 54, 90, 43, 210, 52]\n",
      "2016-03-13 01:11:23.100489 0.963043330248 [158, 19, 123, 97, 54, 90, 43, 210, 52, 168]\n",
      "2016-03-13 01:14:16.590466 0.963074160834 [158, 19, 123, 97, 54, 90, 43, 210, 52, 168, 184]\n",
      "2016-03-13 01:17:08.751028 0.963405684373 [158, 19, 123, 97, 54, 90, 43, 210, 52, 168, 184, 33]\n",
      "2016-03-13 01:19:58.699416 0.963672883506 [158, 19, 123, 97, 54, 90, 43, 210, 52, 168, 184, 33, 136]\n",
      "2016-03-13 01:22:48.411448 0.96376388451 [158, 19, 123, 97, 54, 90, 43, 210, 52, 168, 184, 33, 136, 62]\n",
      "2016-03-13 01:25:36.501458 0.963914592792 [158, 19, 123, 97, 54, 90, 43, 210, 52, 168, 184, 33, 136, 62, 13]\n",
      "2016-03-13 01:28:22.454334 0.963975733021 [158, 19, 123, 97, 54, 90, 43, 210, 52, 168, 184, 33, 136, 62, 13, 201]\n",
      "2016-03-13 01:31:16.884455 0.964035136296 [158, 19, 123, 97, 54, 90, 43, 210, 52, 168, 184, 33, 136, 62, 13, 201, 130]\n",
      "2016-03-13 01:34:00.734167 0.964094177766 [158, 19, 123, 97, 54, 90, 43, 210, 52, 168, 184, 33, 136, 62, 13, 201, 130, 204]\n",
      "2016-03-13 01:36:47.469703 0.964153986378 [158, 19, 123, 97, 54, 90, 43, 210, 52, 168, 184, 33, 136, 62, 13, 201, 130, 204, 108]\n",
      "2016-03-13 01:39:29.806025 0.964213490988 [158, 19, 123, 97, 54, 90, 43, 210, 52, 168, 184, 33, 136, 62, 13, 201, 130, 204, 108, 160]\n",
      "2016-03-13 01:42:07.492608 0.96424236768 [158, 19, 123, 97, 54, 90, 43, 210, 52, 168, 184, 33, 136, 62, 13, 201, 130, 204, 108, 160, 0]\n"
     ]
    }
   ],
   "source": [
    "params = {'n_neighbors': arange(1, 40, 5)}\n",
    "\n",
    "best_score = 0.957314880526\n",
    "was_improve = True\n",
    "features = range(0, 216)\n",
    "noise_steps = []\n",
    "estimators = []\n",
    "index_noise = -1\n",
    "while(was_improve):\n",
    "    print str(datetime.now()), best_score, noise_steps\n",
    "    was_improve = False\n",
    "    index_noise = -1\n",
    "    best_seacher = 0\n",
    "    for i in features:\n",
    "        grid_searcher_drop_noise = GridSearchCV(KNN(),\n",
    "                                 params, cv=5, scoring='roc_auc', n_jobs=3)\n",
    "        \n",
    "        grid_searcher_drop_noise.fit(myX.drop('f' + str(i), axis=1),\n",
    "                                     y_train.ix[:, 0])\n",
    "        if (best_score < grid_searcher_drop_noise.best_score_):\n",
    "            best_score = grid_searcher_drop_noise.best_score_\n",
    "            index_noise = i\n",
    "            best_seacher = grid_searcher_drop_noise\n",
    "            was_improve = True\n",
    "        \n",
    "    if (was_improve):\n",
    "        myX.drop('f' + str(index_noise), axis=1, inplace=True)\n",
    "        features.remove(index_noise)\n",
    "        noise_steps.append(index_noise)\n",
    "        estimators.append(best_seacher)"
   ]
  },
  {
   "cell_type": "code",
   "execution_count": 124,
   "metadata": {
    "collapsed": false
   },
   "outputs": [
    {
     "name": "stdout",
     "output_type": "stream",
     "text": [
      "-1 [2, 4] 0.964848833854\n"
     ]
    },
    {
     "data": {
      "image/png": "[encoded data removed]",
      "text/plain": [
       "<matplotlib.figure.Figure at 0x7f43c47ecc10>"
      ]
     },
     "metadata": {},
     "output_type": "display_data"
    }
   ],
   "source": [
    "print index_noise, noise, best_score\n",
    "plot_quality(estimators[-1], 'n_neighbors')"
   ]
  },
  {
   "cell_type": "code",
   "execution_count": 122,
   "metadata": {
    "collapsed": false
   },
   "outputs": [
    {
     "name": "stdout",
     "output_type": "stream",
     "text": [
      "0.964425542168\n",
      "KNeighborsClassifier(algorithm='auto', leaf_size=30, metric='minkowski',\n",
      "           metric_params=None, n_jobs=1, n_neighbors=26, p=2,\n",
      "           weights='distance')\n"
     ]
    }
   ],
   "source": [
    "params = {'n_neighbors': arange(1, 40, 1)}\n",
    "\n",
    "\n",
    "seacher = GridSearchCV(KNN(weights='distance'), params, cv=5, scoring='roc_auc', n_jobs=3)\n",
    "seacher.fit(myX, y_train.ix[:, 0])\n",
    "print seacher.best_score_\n",
    "print seacher.best_estimator_"
   ]
  },
  {
   "cell_type": "code",
   "execution_count": 125,
   "metadata": {
    "collapsed": true
   },
   "outputs": [],
   "source": [
    "myX = X.copy()"
   ]
  },
  {
   "cell_type": "code",
   "execution_count": 126,
   "metadata": {
    "collapsed": false
   },
   "outputs": [
    {
     "name": "stdout",
     "output_type": "stream",
     "text": [
      "2016-03-13 10:44:36.484816 0.957314880526 []\n",
      "2016-03-13 10:47:46.859092 0.960557989483 [158]\n",
      "2016-03-13 10:50:54.792708 0.961461197291 [158, 19]\n",
      "2016-03-13 10:54:01.131767 0.9618864286 [158, 19, 123]\n",
      "2016-03-13 10:57:06.913436 0.962278325226 [158, 19, 123, 162]\n",
      "2016-03-13 11:00:19.813462 0.962523609755 [158, 19, 123, 162, 184]\n",
      "2016-03-13 11:03:23.307339 0.962945975161 [158, 19, 123, 162, 184, 210]\n",
      "2016-03-13 11:06:27.292095 0.963188191119 [158, 19, 123, 162, 184, 210, 97]\n",
      "2016-03-13 11:09:32.970265 0.963615998599 [158, 19, 123, 162, 184, 210, 97, 52]\n",
      "2016-03-13 11:12:41.110488 0.964037958668 [158, 19, 123, 162, 184, 210, 97, 52, 89]\n",
      "2016-03-13 11:15:48.737357 0.964159631121 [158, 19, 123, 162, 184, 210, 97, 52, 89, 70]\n",
      "2016-03-13 11:18:51.808460 0.964280377294 [158, 19, 123, 162, 184, 210, 97, 52, 89, 70, 106]\n",
      "2016-03-13 11:21:57.455324 0.964398257564 [158, 19, 123, 162, 184, 210, 97, 52, 89, 70, 106, 146]\n",
      "2016-03-13 11:24:58.815996 0.96457973863 [158, 19, 123, 162, 184, 210, 97, 52, 89, 70, 106, 146, 208]\n"
     ]
    }
   ],
   "source": [
    "params = {'n_neighbors': arange(1, 40, 5)}\n",
    "\n",
    "best_score = 0.957314880526\n",
    "was_improve = True\n",
    "features = range(0, 216)\n",
    "noise_steps = []\n",
    "estimators = []\n",
    "index_noise = -1\n",
    "while(was_improve):\n",
    "    print str(datetime.now()), best_score, noise_steps\n",
    "    was_improve = False\n",
    "    index_noise = -1\n",
    "    best_seacher = 0\n",
    "    for i in features:\n",
    "        grid_searcher_drop_noise = GridSearchCV(KNN(weights='distance'),\n",
    "                                 params, cv=5, scoring='roc_auc', n_jobs=3)\n",
    "        \n",
    "        grid_searcher_drop_noise.fit(myX.drop('f' + str(i), axis=1),\n",
    "                                     y_train.ix[:, 0])\n",
    "        if (best_score < grid_searcher_drop_noise.best_score_):\n",
    "            best_score = grid_searcher_drop_noise.best_score_\n",
    "            index_noise = i\n",
    "            best_seacher = grid_searcher_drop_noise\n",
    "            was_improve = True\n",
    "        \n",
    "    if (was_improve):\n",
    "        myX.drop('f' + str(index_noise), axis=1, inplace=True)\n",
    "        features.remove(index_noise)\n",
    "        noise_steps.append(index_noise)\n",
    "        estimators.append(best_seacher)"
   ]
  },
  {
   "cell_type": "code",
   "execution_count": 191,
   "metadata": {
    "collapsed": false
   },
   "outputs": [
    {
     "data": {
      "image/png": "[encoded data removed]",
      "text/plain": [
       "<matplotlib.figure.Figure at 0x7f43c52cfb90>"
      ]
     },
     "metadata": {},
     "output_type": "display_data"
    }
   ],
   "source": [
    "plot_quality(estimators[-1], 'n_neighbors')"
   ]
  },
  {
   "cell_type": "code",
   "execution_count": 218,
   "metadata": {
    "collapsed": true
   },
   "outputs": [],
   "source": [
    "X_sub = pd.read_csv('X_test_vectorize.csv')\n",
    "X_sub.drop('Unnamed: 0', axis=1, inplace=True)"
   ]
  },
  {
   "cell_type": "code",
   "execution_count": 219,
   "metadata": {
    "collapsed": false
   },
   "outputs": [
    {
     "data": {
      "text/html": [
       "<div>\n",
       "<table border=\"1\" class=\"dataframe\">\n",
       "  <thead>\n",
       "    <tr style=\"text-align: right;\">\n",
       "      <th></th>\n",
       "      <th>0</th>\n",
       "      <th>1</th>\n",
       "      <th>2</th>\n",
       "      <th>3</th>\n",
       "      <th>4</th>\n",
       "      <th>5</th>\n",
       "      <th>6</th>\n",
       "      <th>7</th>\n",
       "      <th>8</th>\n",
       "      <th>9</th>\n",
       "      <th>...</th>\n",
       "      <th>206</th>\n",
       "      <th>207</th>\n",
       "      <th>208</th>\n",
       "      <th>209</th>\n",
       "      <th>210</th>\n",
       "      <th>211</th>\n",
       "      <th>212</th>\n",
       "      <th>213</th>\n",
       "      <th>214</th>\n",
       "      <th>215</th>\n",
       "    </tr>\n",
       "  </thead>\n",
       "  <tbody>\n",
       "    <tr>\n",
       "      <th>0</th>\n",
       "      <td>0</td>\n",
       "      <td>0</td>\n",
       "      <td>0</td>\n",
       "      <td>1</td>\n",
       "      <td>0</td>\n",
       "      <td>7</td>\n",
       "      <td>0</td>\n",
       "      <td>0</td>\n",
       "      <td>2</td>\n",
       "      <td>1</td>\n",
       "      <td>...</td>\n",
       "      <td>0</td>\n",
       "      <td>0</td>\n",
       "      <td>0</td>\n",
       "      <td>0</td>\n",
       "      <td>5</td>\n",
       "      <td>0</td>\n",
       "      <td>3</td>\n",
       "      <td>0</td>\n",
       "      <td>0</td>\n",
       "      <td>0</td>\n",
       "    </tr>\n",
       "    <tr>\n",
       "      <th>1</th>\n",
       "      <td>0</td>\n",
       "      <td>0</td>\n",
       "      <td>0</td>\n",
       "      <td>11</td>\n",
       "      <td>0</td>\n",
       "      <td>13</td>\n",
       "      <td>0</td>\n",
       "      <td>0</td>\n",
       "      <td>0</td>\n",
       "      <td>1</td>\n",
       "      <td>...</td>\n",
       "      <td>0</td>\n",
       "      <td>0</td>\n",
       "      <td>0</td>\n",
       "      <td>0</td>\n",
       "      <td>21</td>\n",
       "      <td>0</td>\n",
       "      <td>6</td>\n",
       "      <td>0</td>\n",
       "      <td>0</td>\n",
       "      <td>0</td>\n",
       "    </tr>\n",
       "    <tr>\n",
       "      <th>2</th>\n",
       "      <td>0</td>\n",
       "      <td>0</td>\n",
       "      <td>0</td>\n",
       "      <td>0</td>\n",
       "      <td>0</td>\n",
       "      <td>0</td>\n",
       "      <td>0</td>\n",
       "      <td>0</td>\n",
       "      <td>0</td>\n",
       "      <td>0</td>\n",
       "      <td>...</td>\n",
       "      <td>0</td>\n",
       "      <td>0</td>\n",
       "      <td>0</td>\n",
       "      <td>0</td>\n",
       "      <td>0</td>\n",
       "      <td>0</td>\n",
       "      <td>0</td>\n",
       "      <td>0</td>\n",
       "      <td>0</td>\n",
       "      <td>0</td>\n",
       "    </tr>\n",
       "    <tr>\n",
       "      <th>3</th>\n",
       "      <td>1</td>\n",
       "      <td>0</td>\n",
       "      <td>3</td>\n",
       "      <td>4</td>\n",
       "      <td>0</td>\n",
       "      <td>6</td>\n",
       "      <td>0</td>\n",
       "      <td>0</td>\n",
       "      <td>0</td>\n",
       "      <td>2</td>\n",
       "      <td>...</td>\n",
       "      <td>1</td>\n",
       "      <td>0</td>\n",
       "      <td>0</td>\n",
       "      <td>0</td>\n",
       "      <td>12</td>\n",
       "      <td>0</td>\n",
       "      <td>9</td>\n",
       "      <td>4</td>\n",
       "      <td>0</td>\n",
       "      <td>4</td>\n",
       "    </tr>\n",
       "    <tr>\n",
       "      <th>4</th>\n",
       "      <td>1</td>\n",
       "      <td>0</td>\n",
       "      <td>2</td>\n",
       "      <td>3</td>\n",
       "      <td>0</td>\n",
       "      <td>4</td>\n",
       "      <td>3</td>\n",
       "      <td>0</td>\n",
       "      <td>0</td>\n",
       "      <td>0</td>\n",
       "      <td>...</td>\n",
       "      <td>0</td>\n",
       "      <td>0</td>\n",
       "      <td>0</td>\n",
       "      <td>2</td>\n",
       "      <td>13</td>\n",
       "      <td>0</td>\n",
       "      <td>15</td>\n",
       "      <td>1</td>\n",
       "      <td>0</td>\n",
       "      <td>6</td>\n",
       "    </tr>\n",
       "  </tbody>\n",
       "</table>\n",
       "<p>5 rows × 216 columns</p>\n",
       "</div>"
      ],
      "text/plain": [
       "   0  1  2   3  4   5  6  7  8  9 ...   206  207  208  209  210  211  212  \\\n",
       "0  0  0  0   1  0   7  0  0  2  1 ...     0    0    0    0    5    0    3   \n",
       "1  0  0  0  11  0  13  0  0  0  1 ...     0    0    0    0   21    0    6   \n",
       "2  0  0  0   0  0   0  0  0  0  0 ...     0    0    0    0    0    0    0   \n",
       "3  1  0  3   4  0   6  0  0  0  2 ...     1    0    0    0   12    0    9   \n",
       "4  1  0  2   3  0   4  3  0  0  0 ...     0    0    0    2   13    0   15   \n",
       "\n",
       "   213  214  215  \n",
       "0    0    0    0  \n",
       "1    0    0    0  \n",
       "2    0    0    0  \n",
       "3    4    0    4  \n",
       "4    1    0    6  \n",
       "\n",
       "[5 rows x 216 columns]"
      ]
     },
     "execution_count": 219,
     "metadata": {},
     "output_type": "execute_result"
    }
   ],
   "source": [
    "X_sub.head()"
   ]
  },
  {
   "cell_type": "code",
   "execution_count": 220,
   "metadata": {
    "collapsed": false
   },
   "outputs": [],
   "source": [
    "\n",
    "# scaler = preprocessing.StandardScaler().fit(X_train.drop('y', axis=1))\n",
    "minmax = preprocessing.MinMaxScaler().fit(X_train)\n",
    "X = pd.DataFrame(minmax.transform(X_train))\n",
    "X.rename(columns=lambda x: 'f' + str(x), inplace=True)\n",
    "testX = pd.DataFrame(minmax.transform(X_sub))\n",
    "testX.rename(columns=lambda x: 'f' + str(x), inplace=True)"
   ]
  },
  {
   "cell_type": "code",
   "execution_count": 221,
   "metadata": {
    "collapsed": false
   },
   "outputs": [],
   "source": [
    "testX.drop({'f158', 'f19', 'f123',\n",
    "             'f162', 'f184', 'f210',\n",
    "             'f97', 'f52', 'f89',\n",
    "             'f70', 'f106', 'f146',\n",
    "             'f208'}, axis=1, inplace=True)\n",
    "X.drop({'f158', 'f19', 'f123',\n",
    "             'f162', 'f184', 'f210',\n",
    "             'f97', 'f52', 'f89',\n",
    "             'f70', 'f106', 'f146',\n",
    "             'f208'}, axis=1, inplace=True)"
   ]
  },
  {
   "cell_type": "code",
   "execution_count": 222,
   "metadata": {
    "collapsed": false
   },
   "outputs": [
    {
     "name": "stderr",
     "output_type": "stream",
     "text": [
      "/home/dezzan/anaconda/lib/python2.7/site-packages/ipykernel/__main__.py:1: DataConversionWarning: A column-vector y was passed when a 1d array was expected. Please change the shape of y to (n_samples, ), for example using ravel().\n",
      "  if __name__ == '__main__':\n"
     ]
    }
   ],
   "source": [
    "clf = grid_searcher.best_estimator_.fit(X, y_train)\n",
    "results = clf.predict_proba(testX)[:, 1]\n",
    "f = open('y.knn.noise.drop.csv', 'w')\n",
    "print >> f, 'Id,Prediction'\n",
    "for i, result in enumerate(results):\n",
    "    print >> f, str(i+1) + ',' + str(result)\n",
    "f.close()"
   ]
  },
  {
   "cell_type": "code",
   "execution_count": null,
   "metadata": {
    "collapsed": true
   },
   "outputs": [],
   "source": []
  },
  {
   "cell_type": "code",
   "execution_count": 154,
   "metadata": {
    "collapsed": false
   },
   "outputs": [],
   "source": [
    "clf = estimators[-1].best_estimator_.fit(myX.ix[0:200,], y_train.ix[0:200,0])\n",
    "knn_y = clf.predict_proba(myX)[:, 1]"
   ]
  },
  {
   "cell_type": "code",
   "execution_count": 156,
   "metadata": {
    "collapsed": false
   },
   "outputs": [],
   "source": [
    "X_train['knn'] = knn_y"
   ]
  },
  {
   "cell_type": "code",
   "execution_count": 176,
   "metadata": {
    "collapsed": false
   },
   "outputs": [
    {
     "name": "stdout",
     "output_type": "stream",
     "text": [
      "0.964829824673\n",
      "RandomForestClassifier(bootstrap=True, class_weight=None, criterion='gini',\n",
      "            max_depth=None, max_features='auto', max_leaf_nodes=None,\n",
      "            min_samples_leaf=1, min_samples_split=2,\n",
      "            min_weight_fraction_leaf=0.0, n_estimators=1400, n_jobs=1,\n",
      "            oob_score=False, random_state=None, verbose=0,\n",
      "            warm_start=False)\n"
     ]
    }
   ],
   "source": [
    "# params = {'n_estimators': arange(150, 700, 100),\n",
    "#          'max_depth': arange(4, 40, 4),\n",
    "#          'min_samples_leaf': [1, 5]}\n",
    "params = {'n_estimators': arange(100, 1700, 100)}\n",
    "grid_searcher_rf = GridSearchCV(RFC(),\n",
    "                             params, cv=5, scoring='roc_auc', n_jobs=1)\n",
    "grid_searcher_rf.fit(X_train.ix[201:,], y_train.ix[201:,0])\n",
    "\n",
    "print grid_searcher_rf.best_score_\n",
    "print grid_searcher_rf.best_estimator_\n",
    "# 0.969393256461 - RF, max_depth=16, n_estimators=450, data after StandardScaler() and select most important\n",
    "# 0.968850854222 - RF, max_depth=NONE, n_estimators=550, data after StandardScaler() and select most important"
   ]
  },
  {
   "cell_type": "code",
   "execution_count": 160,
   "metadata": {
    "collapsed": false
   },
   "outputs": [
    {
     "data": {
      "image/png": "[encoded data removed]",
      "text/plain": [
       "<matplotlib.figure.Figure at 0x7f43c55bd290>"
      ]
     },
     "metadata": {},
     "output_type": "display_data"
    }
   ],
   "source": [
    "plot_quality(grid_searcher_rf, 'n_estimators')"
   ]
  },
  {
   "cell_type": "code",
   "execution_count": 177,
   "metadata": {
    "collapsed": false
   },
   "outputs": [
    {
     "name": "stdout",
     "output_type": "stream",
     "text": [
      "0.00460829493088\n"
     ]
    }
   ],
   "source": [
    "# rf_clf = grid_searcher_rf.best_estimator_\n",
    "# features_importance = rf_clf.feature_importances_.copy()\n",
    "print mean(features_importance)\n",
    "f = features_importance > 0.004"
   ]
  },
  {
   "cell_type": "code",
   "execution_count": 186,
   "metadata": {
    "collapsed": false
   },
   "outputs": [
    {
     "name": "stdout",
     "output_type": "stream",
     "text": [
      "0.969029095713\n",
      "RandomForestClassifier(bootstrap=True, class_weight=None, criterion='gini',\n",
      "            max_depth=12, max_features='auto', max_leaf_nodes=None,\n",
      "            min_samples_leaf=1, min_samples_split=2,\n",
      "            min_weight_fraction_leaf=0.0, n_estimators=100, n_jobs=1,\n",
      "            oob_score=False, random_state=None, verbose=0,\n",
      "            warm_start=False)\n"
     ]
    }
   ],
   "source": [
    "params = {'n_estimators': arange(100, 1300, 200),\n",
    "         'max_depth': np.append(arange(4, 24, 8), None)}\n",
    "# params = {'n_estimators': arange(100, 1700, 100)}\n",
    "grid_searcher_rf = GridSearchCV(RFC(),\n",
    "                             params, cv=5, scoring='roc_auc', n_jobs=1)\n",
    "grid_searcher_rf.fit(X_train.ix[201:,f], y_train.ix[201:,0])\n",
    "\n",
    "print grid_searcher_rf.best_score_\n",
    "print grid_searcher_rf.best_estimator_"
   ]
  },
  {
   "cell_type": "code",
   "execution_count": 188,
   "metadata": {
    "collapsed": false
   },
   "outputs": [],
   "source": [
    "plot_quality(grid_searcher_rf, 'n_estimators')"
   ]
  },
  {
   "cell_type": "code",
   "execution_count": 189,
   "metadata": {
    "collapsed": false
   },
   "outputs": [
    {
     "data": {
      "text/plain": [
       "array([ 0.00600295,  0.0236623 ,  0.00923427,  0.00971555,  0.01739658,\n",
       "        0.05366589,  0.0073973 ,  0.00485352,  0.01230894,  0.06254077,\n",
       "        0.01414287,  0.02561232,  0.01772161,  0.01297899,  0.0073147 ,\n",
       "        0.01003357,  0.00637394,  0.01708105,  0.01093721,  0.0208263 ,\n",
       "        0.0124339 ,  0.00543622,  0.00736623,  0.01303182,  0.00785329,\n",
       "        0.01136113,  0.01358595,  0.00778023,  0.00475822,  0.0071349 ,\n",
       "        0.00694591,  0.00733876,  0.01621069,  0.01159028,  0.00702584,\n",
       "        0.04116931,  0.01648337,  0.08584014,  0.01644211,  0.0260565 ,\n",
       "        0.00485151,  0.00766203,  0.0370086 ,  0.01175131,  0.00821861,\n",
       "        0.01016489,  0.011715  ,  0.01009221,  0.04510444,  0.0090791 ,\n",
       "        0.0093752 ,  0.15933169])"
      ]
     },
     "execution_count": 189,
     "metadata": {},
     "output_type": "execute_result"
    }
   ],
   "source": [
    "grid_searcher_rf.best_estimator_.feature_importances_"
   ]
  },
  {
   "cell_type": "code",
   "execution_count": 137,
   "metadata": {
    "collapsed": false
   },
   "outputs": [],
   "source": [
    "clf = grid_searcher.best_estimator_.fit(X, y_train)\n",
    "r = clf.predict_proba(X)[:, 1]\n",
    "X_train['knn'] = r"
   ]
  },
  {
   "cell_type": "code",
   "execution_count": 112,
   "metadata": {
    "collapsed": false
   },
   "outputs": [
    {
     "name": "stdout",
     "output_type": "stream",
     "text": [
      "0.954893617967\n",
      "KNeighborsClassifier(algorithm='auto', leaf_size=30, metric='minkowski',\n",
      "           metric_params=None, n_jobs=1, n_neighbors=31, p=2,\n",
      "           weights='uniform')\n"
     ]
    }
   ],
   "source": [
    "params = {'n_neighbors': arange(1, 200, 5)}\n",
    "grid_searcher = GridSearchCV(KNN(),\n",
    "                             params, cv=5, scoring='roc_auc', n_jobs=3)\n",
    "grid_searcher.fit(X.drop('y', axis=1), y_train)\n",
    "\n",
    "print grid_searcher.best_score_\n",
    "print grid_searcher.best_estimator_"
   ]
  },
  {
   "cell_type": "code",
   "execution_count": 154,
   "metadata": {
    "collapsed": false
   },
   "outputs": [
    {
     "data": {
      "image/png": "[encoded data removed]",
      "text/plain": [
       "<matplotlib.figure.Figure at 0x7f91801b51d0>"
      ]
     },
     "metadata": {},
     "output_type": "display_data"
    }
   ],
   "source": [
    "plot_quality(grid_searcher, 'n_estimators')"
   ]
  },
  {
   "cell_type": "code",
   "execution_count": 192,
   "metadata": {
    "collapsed": false
   },
   "outputs": [
    {
     "data": {
      "image/png": "[encoded data removed]",
      "text/plain": [
       "<matplotlib.figure.Figure at 0x7f918834a4d0>"
      ]
     },
     "metadata": {},
     "output_type": "display_data"
    }
   ],
   "source": [
    "plot_quality(grid_searcher, 'n_estimators')"
   ]
  },
  {
   "cell_type": "code",
   "execution_count": 158,
   "metadata": {
    "collapsed": false
   },
   "outputs": [],
   "source": [
    "rf = grid_searcher.best_estimator_"
   ]
  },
  {
   "cell_type": "code",
   "execution_count": 185,
   "metadata": {
    "collapsed": false
   },
   "outputs": [],
   "source": [
    "f = rf.feature_importances_ > 0.01"
   ]
  },
  {
   "cell_type": "code",
   "execution_count": 169,
   "metadata": {
    "collapsed": false
   },
   "outputs": [
    {
     "data": {
      "text/plain": [
       "array([ 0.00259745,  0.00192837,  0.00291831,  0.00184098,  0.00355852,\n",
       "        0.00275781,  0.00092847,  0.00120219,  0.00110291,  0.00151396,\n",
       "        0.00079824,  0.00297416,  0.00075804,  0.00123317,  0.00509736,\n",
       "        0.00851448,  0.00169435,  0.01354587,  0.00604324,  0.00183859,\n",
       "        0.00292858,  0.00325994,  0.0014587 ,  0.00347862,  0.00187205,\n",
       "        0.00177856,  0.00085228,  0.00462046,  0.00227996,  0.00279283,\n",
       "        0.01169732,  0.00144989,  0.00515131,  0.02036391,  0.00167067,\n",
       "        0.00539715,  0.00114252,  0.00092089,  0.00141911,  0.00379177,\n",
       "        0.0085151 ,  0.00130672,  0.00198415,  0.00382111,  0.00302818,\n",
       "        0.00116635,  0.01080385,  0.00177211,  0.00340165,  0.00116807,\n",
       "        0.00177803,  0.00339133,  0.03415617,  0.00106845,  0.00152173,\n",
       "        0.00126493,  0.00153686,  0.00124885,  0.00285537,  0.00149438,\n",
       "        0.00075153,  0.00074305,  0.00160421,  0.02730946,  0.02174348,\n",
       "        0.00066655,  0.00202604,  0.00188429,  0.00128912,  0.00097005,\n",
       "        0.00132276,  0.00300769,  0.00289443,  0.00101231,  0.00209702,\n",
       "        0.004049  ,  0.00504835,  0.01004915,  0.00125322,  0.00125137,\n",
       "        0.00158967,  0.0016825 ,  0.00120917,  0.00182494,  0.00136207,\n",
       "        0.00243241,  0.00275871,  0.00509434,  0.00204118,  0.00939869,\n",
       "        0.00406528,  0.00202947,  0.00284586,  0.00188245,  0.00190079,\n",
       "        0.00500264,  0.00055909,  0.00367566,  0.00250836,  0.01242328,\n",
       "        0.01933291,  0.00190644,  0.01878348,  0.00164559,  0.01114129,\n",
       "        0.01717334,  0.00097881,  0.00715409,  0.00827573,  0.00260819,\n",
       "        0.00589362,  0.00339307,  0.00119995,  0.00754264,  0.0047557 ,\n",
       "        0.00742745,  0.00791314,  0.00075658,  0.00757729,  0.00105796,\n",
       "        0.00408838,  0.00239806,  0.00326813,  0.00198289,  0.00253238,\n",
       "        0.01087894,  0.00651834,  0.00355207,  0.00249938,  0.00152824,\n",
       "        0.00105329,  0.00235125,  0.00048739,  0.00360092,  0.00266661,\n",
       "        0.00164495,  0.00118878,  0.00103923,  0.0027725 ,  0.00317406,\n",
       "        0.00408286,  0.00464068,  0.00080249,  0.00240972,  0.00042476,\n",
       "        0.00078309,  0.00069267,  0.00099485,  0.00089249,  0.00100288,\n",
       "        0.00096847,  0.01749109,  0.01719589,  0.00126443,  0.00121845,\n",
       "        0.00185081,  0.00093093,  0.00367024,  0.00137856,  0.00174463,\n",
       "        0.00136919,  0.00117956,  0.0011893 ,  0.03872566,  0.00453534,\n",
       "        0.00290784,  0.00123647,  0.00800162,  0.00082689,  0.02666511,\n",
       "        0.00088575,  0.00360165,  0.00162609,  0.00719136,  0.00188491,\n",
       "        0.00966153,  0.00346694,  0.00103331,  0.00070803,  0.00324278,\n",
       "        0.00481728,  0.00173079,  0.04096512,  0.00506335,  0.00175192,\n",
       "        0.00738893,  0.0038845 ,  0.00102473,  0.00389157,  0.00058637,\n",
       "        0.00137311,  0.0009204 ,  0.00422345,  0.0009512 ,  0.00574675,\n",
       "        0.00299033,  0.00384549,  0.00975362,  0.02901734,  0.00066688,\n",
       "        0.01308393,  0.00170544,  0.00079424,  0.00170466,  0.00166242,\n",
       "        0.00107629,  0.00164161,  0.00106411,  0.00040409,  0.00067317,\n",
       "        0.00568822,  0.00150729,  0.00274878,  0.0013959 ,  0.00084585,\n",
       "        0.00260301,  0.06496952])"
      ]
     },
     "execution_count": 169,
     "metadata": {},
     "output_type": "execute_result"
    }
   ],
   "source": [
    "rf.feature_importances_"
   ]
  }
 ],
 "metadata": {
  "kernelspec": {
   "display_name": "Python 2",
   "language": "python",
   "name": "python2"
  },
  "language_info": {
   "codemirror_mode": {
    "name": "ipython",
    "version": 2
   },
   "file_extension": ".py",
   "mimetype": "text/x-python",
   "name": "python",
   "nbconvert_exporter": "python",
   "pygments_lexer": "ipython2",
   "version": "2.7.11"
  }
 },
 "nbformat": 4,
 "nbformat_minor": 0
}
